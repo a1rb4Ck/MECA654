{
 "cells": [
  {
   "cell_type": "code",
   "execution_count": 1,
   "metadata": {},
   "outputs": [
    {
     "data": {
      "text/html": [
       "<script>\n",
       "  function code_toggle() {\n",
       "    if (code_shown){\n",
       "      $('div.input').hide('500');\n",
       "      $('#toggleButton').val('Show Code')\n",
       "    } else {\n",
       "      $('div.input').show('500');\n",
       "      $('#toggleButton').val('Hide Code')\n",
       "    }\n",
       "    code_shown = !code_shown\n",
       "  }\n",
       "\n",
       "  $( document ).ready(function(){\n",
       "    code_shown=false;\n",
       "    $('div.input').hide()\n",
       "  });\n",
       "</script>\n",
       "<form action=\"javascript:code_toggle()\"><input type=\"submit\" id=\"toggleButton\" value=\"Show Code\"></form>"
      ],
      "text/plain": [
       "<IPython.core.display.HTML object>"
      ]
     },
     "metadata": {},
     "output_type": "display_data"
    }
   ],
   "source": [
    "%%%HTML\n",
    "<script>\n",
    "  function code_toggle() {\n",
    "    if (code_shown){\n",
    "      $('div.input').hide('500');\n",
    "      $('#toggleButton').val('Show Code')\n",
    "    } else {\n",
    "      $('div.input').show('500');\n",
    "      $('#toggleButton').val('Hide Code')\n",
    "    }\n",
    "    code_shown = !code_shown\n",
    "  }\n",
    "\n",
    "  $( document ).ready(function(){\n",
    "    code_shown=false;\n",
    "    $('div.input').hide()\n",
    "  });\n",
    "</script>\n",
    "<form action=\"javascript:code_toggle()\"><input type=\"submit\" id=\"toggleButton\" value=\"Show Code\"></form>"
   ]
  },
  {
   "cell_type": "code",
   "execution_count": 2,
   "metadata": {
    "button": false,
    "new_sheet": false,
    "run_control": {
     "read_only": false
    }
   },
   "outputs": [],
   "source": [
    "# MECA654, March 2018, Pierre Nagorny\n",
    "# Polytech Annecy-Chambéry, SYMME lab, Savoie Mont Blanc University\n",
    "\n",
    "# HINTS: Check the nice tuto about vector calculus !\n",
    "# http://docs.sympy.org/latest/modules/physics/vector/vectors.html\n",
    "\n",
    "from IPython.core.interactiveshell import InteractiveShell\n",
    "from IPython.display import display, Math, YouTubeVideo\n",
    "import numpy as np\n",
    "import matplotlib as mpl\n",
    "from matplotlib import pyplot as plt  # Loading Pyplot\n",
    "from scipy.interpolate import interp1d\n",
    "# Setting Matplotlib render backend\n",
    "%matplotlib notebook\n",
    "# %matplotlib nbagg\n",
    "# %pylab inline\n",
    "from sympy import *  # Loading Sympy for symbolic calculus\n",
    "from sympy.physics.vector import *  # Everything needed for vector calculs, Reference frame, dynamic\n",
    "from sympy.physics.vector import init_vprinting  # To print time varying vectors\n",
    "\n",
    "init_printing()\n",
    "init_vprinting(pretty_print=True)\n",
    "\n",
    "# Display full output in Jupyter Notebook\n",
    "InteractiveShell.ast_node_interactivity = \"all\""
   ]
  },
  {
   "cell_type": "code",
   "execution_count": 3,
   "metadata": {},
   "outputs": [
    {
     "data": {
      "image/jpeg": "[encoded data removed]",
      "text/html": [
       "\n",
       "        <iframe\n",
       "            width=\"478\"\n",
       "            height=\"500\"\n",
       "            src=\"https://www.youtube.com/embed/UblRctFXjh4\"\n",
       "            frameborder=\"0\"\n",
       "            allowfullscreen\n",
       "        ></iframe>\n",
       "        "
      ],
      "text/plain": [
       "<IPython.lib.display.YouTubeVideo at 0x10b943198>"
      ]
     },
     "execution_count": 3,
     "metadata": {},
     "output_type": "execute_result"
    }
   ],
   "source": [
    "YouTubeVideo('UblRctFXjh4', height=500, width=478)"
   ]
  },
  {
   "cell_type": "markdown",
   "metadata": {
    "button": false,
    "new_sheet": false,
    "run_control": {
     "read_only": false
    }
   },
   "source": [
    "__MECA654, March 2018, Polytech Annecy-Chambéry__  \n",
    "[This interactive notebook is on Github](https://github.com/a1rb4Ck/MECA654)  \n",
    "## Exercise 8 - Friction wheel\n",
    "### Rotations composition\n",
    "$\\dot{\\theta_{01}}$ rotation speed of axis $\\vec{i_1}$  \n",
    "$\\dot{\\theta_{02}}$ rotation speed of axis $\\vec{i_2}$  "
   ]
  },
  {
   "cell_type": "markdown",
   "metadata": {
    "button": false,
    "new_sheet": false,
    "run_control": {
     "read_only": false
    }
   },
   "source": [
    "![Mechanism schematic](./img/k_Ex8.svg)"
   ]
  },
  {
   "cell_type": "code",
   "execution_count": 4,
   "metadata": {
    "button": false,
    "new_sheet": false,
    "run_control": {
     "read_only": false
    }
   },
   "outputs": [],
   "source": [
    "# Define used symbols for SymPy, constant variables\n",
    "alpha, R_1, R_2, t = symbols('alpha R_1 R_2 t')  # the time is a symbol.\n",
    "# Define dynamic symbols, variables function of time (t)\n",
    "theta_1, theta_2, OM = dynamicsymbols('theta_1 theta_2 OM')\n",
    "theta_1dot = dynamicsymbols('theta_1', 1)  # First order derivative of theta_1\n",
    "theta_2dot = dynamicsymbols('theta_2', 1)  # First order derivative of theta_2\n",
    "\n",
    "# Our reference frames for each body:\n",
    "\n",
    "B0 = ReferenceFrame('B0', indices=['i', 'j', 'k'])\n",
    "B1 = ReferenceFrame('B1', indices=['i', 'j', 'k'])\n",
    "B2center = ReferenceFrame('B2center', indices=['i', 'j', 'k'])\n",
    "B2 = ReferenceFrame('B2', indices=['i', 'j', 'k'])\n",
    "\n",
    "# We define space transformation relations in our problem:\n",
    "B1.orient(B0, 'Axis', [theta_1, B0.x])  # Rotation of theta_1 (i_0), same as (k_1)\n",
    "B2center.orient(B0, 'Axis', [alpha-(pi/2), B0.z])  # Rotation of axis (k_0), same as (k_1)\n",
    "B2.orient(B2center, 'Axis', [theta_2, B2center.x])  # Rotation of axis (k_0), same as (k_1)\n",
    "\n",
    "# We can view the Direct Cosinus Matrix between both reference frames!\n",
    "# B1.dcm(B0)\n",
    "# B2center.dcm(B0)\n",
    "# B2.dcm(B0)\n",
    "# B2.dcm(B1)"
   ]
  },
  {
   "cell_type": "markdown",
   "metadata": {
    "button": false,
    "new_sheet": false,
    "run_control": {
     "read_only": false
    }
   },
   "source": [
    "**1. You should determined:**\n",
    "   - **$\\overrightarrow{V_{01}(M)}$ in the $(0)$ reference frame:  **  "
   ]
  },
  {
   "cell_type": "code",
   "execution_count": 5,
   "metadata": {
    "button": false,
    "new_sheet": false,
    "run_control": {
     "read_only": false
    }
   },
   "outputs": [
    {
     "data": {
      "text/latex": [
       "$$\\overrightarrow{OM}=-  R_{1}\\mathbf{\\hat{b1}_{j}} \\ in \\ the \\ B_2 \\ base$$"
      ],
      "text/plain": [
       "<IPython.core.display.Math object>"
      ]
     },
     "metadata": {},
     "output_type": "display_data"
    }
   ],
   "source": [
    "# We define the OM vector translation\n",
    "OM = - R_1 * B1['j']  # O is the center\n",
    "display(Math(r'\\overrightarrow{OM}=%s \\ %s' % (latex(OM), latex('in \\ the \\ B_2 \\ base'))))"
   ]
  },
  {
   "cell_type": "code",
   "execution_count": 6,
   "metadata": {},
   "outputs": [
    {
     "data": {
      "text/latex": [
       "$$\\overrightarrow{V_{01}(M)}=-  R_{1} \\dot{\\theta}_{1}\\mathbf{\\hat{b1}_{k}} \\ in \\ the \\ B_0 \\ base$$"
      ],
      "text/plain": [
       "<IPython.core.display.Math object>"
      ]
     },
     "metadata": {},
     "output_type": "display_data"
    }
   ],
   "source": [
    "V_01 = OM.dt(B0)  # B0 is the same as B1\n",
    "# V_01  # V_01 in the B0 frame\n",
    "display(Math(r'\\overrightarrow{V_{01}(M)}=%s \\ %s' % (latex(V_01), latex('in \\ the \\ B_0 \\ base'))))"
   ]
  },
  {
   "cell_type": "markdown",
   "metadata": {
    "button": false,
    "new_sheet": false,
    "run_control": {
     "read_only": false
    }
   },
   "source": [
    "   - **$\\overrightarrow{V_{02}(M)}$ in the $(0)$ reference frame:  **"
   ]
  },
  {
   "cell_type": "code",
   "execution_count": 7,
   "metadata": {
    "button": false,
    "new_sheet": false,
    "run_control": {
     "read_only": false
    }
   },
   "outputs": [
    {
     "data": {
      "text/latex": [
       "$$\\overrightarrow{OM}=-  R_{2}\\mathbf{\\hat{b2}_{j}} \\ in \\ the \\ B_2 \\ base$$"
      ],
      "text/plain": [
       "<IPython.core.display.Math object>"
      ]
     },
     "metadata": {},
     "output_type": "display_data"
    },
    {
     "data": {
      "text/latex": [
       "$$\\overrightarrow{OM}=-  R_{2} \\operatorname{cos}\\left(\\theta_{2}\\right)\\mathbf{\\hat{b2center}_{j}} -  R_{2} \\operatorname{sin}\\left(\\theta_{2}\\right)\\mathbf{\\hat{b2center}_{k}} \\ in \\ the \\ B_2center \\ base$$"
      ],
      "text/plain": [
       "<IPython.core.display.Math object>"
      ]
     },
     "metadata": {},
     "output_type": "display_data"
    },
    {
     "data": {
      "text/latex": [
       "$$\\overrightarrow{V_{02}(M)}=-  R_{2} \\dot{\\theta}_{2}\\mathbf{\\hat{b2}_{k}} \\ in \\ the \\ B_2 \\ base$$"
      ],
      "text/plain": [
       "<IPython.core.display.Math object>"
      ]
     },
     "metadata": {},
     "output_type": "display_data"
    },
    {
     "data": {
      "text/latex": [
       "$$\\overrightarrow{V_{02}(M)}=R_{2} \\operatorname{sin}\\left(\\theta_{2}\\right) \\operatorname{cos}\\left(\\alpha\\right) \\dot{\\theta}_{2}\\mathbf{\\hat{b0}_{i}} + R_{2} \\operatorname{sin}\\left(\\alpha\\right) \\operatorname{sin}\\left(\\theta_{2}\\right) \\dot{\\theta}_{2}\\mathbf{\\hat{b0}_{j}} -  R_{2} \\operatorname{cos}\\left(\\theta_{2}\\right) \\dot{\\theta}_{2}\\mathbf{\\hat{b0}_{k}} \\ in \\ the \\ B_0 \\ base$$"
      ],
      "text/plain": [
       "<IPython.core.display.Math object>"
      ]
     },
     "metadata": {},
     "output_type": "display_data"
    }
   ],
   "source": [
    "OM_2 = - R_2 * B2['j']\n",
    "display(Math(r'\\overrightarrow{OM}=%s \\ %s' % (latex(OM_2), latex('in \\ the \\ B_2 \\ base'))))\n",
    "display(Math(r'\\overrightarrow{OM}=%s \\ %s' % (latex(OM_2.express(B2center)), latex('in \\ the \\ B_2center \\ base'))))\n",
    "\n",
    "V_02 = OM_2.dt(B2center)\n",
    "display(Math(r'\\overrightarrow{V_{02}(M)}=%s \\ %s' % (latex(V_02), latex('in \\ the \\ B_2 \\ base'))))\n",
    "\n",
    "# Express the vector that we originally wrote in the B2 frame, in the B0 frame:\n",
    "V_02 = V_02.express(B0)\n",
    "display(Math(r'\\overrightarrow{V_{02}(M)}=%s \\ %s' % (latex(V_02), latex('in \\ the \\ B_0 \\ base'))))"
   ]
  },
  {
   "cell_type": "markdown",
   "metadata": {
    "button": false,
    "new_sheet": false,
    "run_control": {
     "read_only": false
    }
   },
   "source": [
    "- **Assuming a no slipping contact in $M$, we have $\\overrightarrow{V_{12}(M)} = 0$  \n",
    "Find the relation between $\\overrightarrow{V_{01}(M)}$, $\\overrightarrow{V_{02}(M)}$, $\\dot{\\theta_{01}}$, $\\dot{\\theta_{02}}$**  \n"
   ]
  },
  {
   "cell_type": "code",
   "execution_count": 8,
   "metadata": {
    "button": false,
    "new_sheet": false,
    "run_control": {
     "read_only": false
    }
   },
   "outputs": [
    {
     "data": {
      "text/latex": [
       "$$\\overrightarrow{V_{01}(M)} + \\overrightarrow{V_{12}(M)}=\\overrightarrow{V_{02}(M)}$$"
      ],
      "text/plain": [
       "<IPython.core.display.Math object>"
      ]
     },
     "metadata": {},
     "output_type": "display_data"
    },
    {
     "data": {
      "text/latex": [
       "$$\\overrightarrow{V_{12}(M)} = \\overrightarrow{V_{02}(M)} - \\overrightarrow{V_{01}(M)}$$"
      ],
      "text/plain": [
       "<IPython.core.display.Math object>"
      ]
     },
     "metadata": {},
     "output_type": "display_data"
    },
    {
     "data": {
      "text/latex": [
       "$$and \\ \\overrightarrow{V_{12}(M).k}=0 \\ \\ hence, \\ we \\ have:$$"
      ],
      "text/plain": [
       "<IPython.core.display.Math object>"
      ]
     },
     "metadata": {},
     "output_type": "display_data"
    },
    {
     "data": {
      "text/latex": [
       "$$\\overrightarrow{V_{01}(M)} - \\overrightarrow{V_{02}(M)}= \\ \\left[\\begin{matrix}R_{2} \\sin{\\left (\\theta_{2}{\\left (t \\right )} \\right )} \\cos{\\left (\\alpha \\right )} \\frac{d}{d t} \\theta_{2}{\\left (t \\right )}\\\\- R_{1} \\sin{\\left (\\theta_{1}{\\left (t \\right )} \\right )} \\frac{d}{d t} \\theta_{1}{\\left (t \\right )} + R_{2} \\sin{\\left (\\alpha \\right )} \\sin{\\left (\\theta_{2}{\\left (t \\right )} \\right )} \\frac{d}{d t} \\theta_{2}{\\left (t \\right )}\\\\R_{1} \\cos{\\left (\\theta_{1}{\\left (t \\right )} \\right )} \\frac{d}{d t} \\theta_{1}{\\left (t \\right )} - R_{2} \\cos{\\left (\\theta_{2}{\\left (t \\right )} \\right )} \\frac{d}{d t} \\theta_{2}{\\left (t \\right )}\\end{matrix}\\right] \\left[\\begin{matrix}B_{0 i}\\\\B_{0 j}\\\\B_{0 k}\\end{matrix}\\right]$$"
      ],
      "text/plain": [
       "<IPython.core.display.Math object>"
      ]
     },
     "metadata": {},
     "output_type": "display_data"
    },
    {
     "data": {
      "text/latex": [
       "$$\\overrightarrow{V_{12}(M).k} = \\ R_{1} \\cos{\\left (\\theta_{1}{\\left (t \\right )} \\right )} \\frac{d}{d t} \\theta_{1}{\\left (t \\right )} - R_{2} \\cos{\\left (\\theta_{2}{\\left (t \\right )} \\right )} \\frac{d}{d t} \\theta_{2}{\\left (t \\right )} \\ = 0$$"
      ],
      "text/plain": [
       "<IPython.core.display.Math object>"
      ]
     },
     "metadata": {},
     "output_type": "display_data"
    },
    {
     "data": {
      "text/latex": [
       "$$\\dot{\\theta_1} = \\ \\left [ \\frac{R_{2} \\cos{\\left (\\theta_{2}{\\left (t \\right )} \\right )} \\frac{d}{d t} \\theta_{2}{\\left (t \\right )}}{R_{1} \\cos{\\left (\\theta_{1}{\\left (t \\right )} \\right )}}\\right ]$$"
      ],
      "text/plain": [
       "<IPython.core.display.Math object>"
      ]
     },
     "metadata": {},
     "output_type": "display_data"
    },
    {
     "data": {
      "text/latex": [
       "$$R_1 = \\ \\left [ \\frac{R_{2} \\cos{\\left (\\theta_{2}{\\left (t \\right )} \\right )} \\frac{d}{d t} \\theta_{2}{\\left (t \\right )}}{\\cos{\\left (\\theta_{1}{\\left (t \\right )} \\right )} \\frac{d}{d t} \\theta_{1}{\\left (t \\right )}}\\right ]$$"
      ],
      "text/plain": [
       "<IPython.core.display.Math object>"
      ]
     },
     "metadata": {},
     "output_type": "display_data"
    },
    {
     "data": {
      "image/png": "[encoded data removed]",
      "text/latex": [
       "$$\\left [ \\theta_{1} = - \\operatorname{asin}\\left(\\frac{1}{R_{1}} \\left(C_{1} + R_{2} \\operatorname{sin}\\left(\\theta_{2}\\right)\\right)\\right) + \\pi, \\quad \\theta_{1} = \\operatorname{asin}\\left(\\frac{1}{R_{1}} \\left(C_{1} + R_{2} \\operatorname{sin}\\left(\\theta_{2}\\right)\\right)\\right)\\right ]$$"
      ],
      "text/plain": [
       "⎡           ⎛C₁ + R₂⋅sin(θ₂)⎞               ⎛C₁ + R₂⋅sin(θ₂)⎞⎤\n",
       "⎢θ₁ = - asin⎜───────────────⎟ + π, θ₁ = asin⎜───────────────⎟⎥\n",
       "⎣           ⎝       R₁      ⎠               ⎝       R₁      ⎠⎦"
      ]
     },
     "execution_count": 8,
     "metadata": {},
     "output_type": "execute_result"
    }
   ],
   "source": [
    "# V_01 + V_12 = V_02\n",
    "# V_12 = V_02 - V_01\n",
    "# and V_12.k = 0  hence, we have:\n",
    "display(Math(r'\\overrightarrow{V_{01}(M)} + \\overrightarrow{V_{12}(M)}=\\overrightarrow{V_{02}(M)}'))\n",
    "display(Math(r'\\overrightarrow{V_{12}(M)} = \\overrightarrow{V_{02}(M)} - \\overrightarrow{V_{01}(M)}'))\n",
    "display(Math(r'and \\ \\overrightarrow{V_{12}(M).k}=0 \\ %s' % latex('\\ hence, \\ we \\ have:')))\n",
    "V_12 = V_02.to_matrix(B0) - V_01.to_matrix(B0)\n",
    "display(Math(r'\\overrightarrow{V_{01}(M)} - \\overrightarrow{V_{02}(M)}= \\ %s %s' % (latex(V_12), latex(Matrix([B0.name + '_i', B0.name + '_j', B0.name + '_k'])))))\n",
    "display(Math(r'\\overrightarrow{V_{12}(M).k} = \\ %s \\ = 0' % latex(V_12[2])))\n",
    "\n",
    "# We solve the linear equation which keeps derivatives theta_xdot (asked question):\n",
    "sdot = solve(V_12[2], theta_1dot)\n",
    "display(Math(r'\\dot{\\theta_1} = \\ %s' % latex(sdot)))\n",
    "# We solve the linear equation which keeps derivatives theta_xdot (asked question):\n",
    "\n",
    "# Bonus: We solve to find R_1 function of everything else:\n",
    "sR1 = solve(V_12[2], R_1)\n",
    "display(Math(r'R_1 = \\ %s' % latex(sR1)))\n",
    "\n",
    "# Bonus: We solve the Ordinary Differential Equation (ODE) to find theta_1(t):\n",
    "solutions = dsolve(V_12[2], theta_1)\n",
    "solutions\n",
    "\n",
    "# Bonus: We optimize to find the maximal velocity with R_1 and R_2 parameters\n",
    "## Find the zero derivative:\n",
    "# f = solutions[1]  # .subs(t, 1)\n",
    "# We divide by theta_1 to maximize the ratio between theta_1 and theta_2\n",
    "# t2 = symbols('t2')\n",
    "# fprime = diff(f.args[1].subs(theta_2, t2), t2)\n",
    "# fprime\n",
    "# solve(Eq(fprime, 0), R_1)\n",
    "\n",
    "# f = asin(R_2*sin(theta_2)/R_1)\n",
    "# fprime = f.diff(func, theta_2)\n",
    "\n",
    "# from scipy import optimize\n",
    "# def f_theta_1(theta_2_subs): return solutions[1].subs(t, 1).subs(theta_2, theta_2_subs)\n",
    "# max_x = optimize.fmin(lambda x: -f_theta_1(x), 0)\n",
    "# max_x\n",
    "\n",
    "\n",
    "# V_12 = V_02.to_matrix(B0).col_insert(3,V_01.to_matrix(B0))\n",
    "# C1, C2, C3 = symbols('C1 C2 C3')\n",
    "# theta_1 = Function('theta_1')\n",
    "# theta_2 = Function('theta_2')\n",
    "# diffeq = tuple([Eq(eq) for eq in V_12])\n",
    "# diffeq\n",
    "# from sympy.solvers.ode import odesimp\n",
    "# odesimp(diffeq, theta_1(t), 1, {C1, C2}, hint='1st_homogeneous_coeff_subs_indep_div_dep')\n",
    "\n",
    "# No Sympy function seems to be able to perform Gaussian Jordan reduction with many symbols and derivatives.\n",
    "# Thus, we substract line 1 and line 2:\n",
    "# gausseq = (diffeq[0], Eq(diffeq[0].args[0], diffeq[1].args[0]).simplify(), diffeq[2])\n",
    "# gausseq\n",
    "# We could get some hint on the first ODE:\n",
    "# classify_ode(gausseq[0], theta_1(t))\n",
    "# ode_order(gausseq[0], theta_1(t))\n",
    "\n",
    "# from sympy.solvers.ode import infinitesimals\n",
    "# infinitesimals(diffeq[0:-1], [theta_1(t), theta_2(t)])"
   ]
  },
  {
   "cell_type": "markdown",
   "metadata": {
    "button": false,
    "new_sheet": false,
    "run_control": {
     "read_only": false
    }
   },
   "source": [
    "### Usefulness of friction transmissions : Continuous Variable Transmissions (CVT)"
   ]
  },
  {
   "cell_type": "code",
   "execution_count": 9,
   "metadata": {},
   "outputs": [
    {
     "data": {
      "image/jpeg": "[encoded data removed]",
      "text/html": [
       "\n",
       "        <iframe\n",
       "            width=\"800\"\n",
       "            height=\"500\"\n",
       "            src=\"https://www.youtube.com/embed/LHoAh2Bo83c\"\n",
       "            frameborder=\"0\"\n",
       "            allowfullscreen\n",
       "        ></iframe>\n",
       "        "
      ],
      "text/plain": [
       "<IPython.lib.display.YouTubeVideo at 0x1110c1be0>"
      ]
     },
     "execution_count": 9,
     "metadata": {},
     "output_type": "execute_result"
    },
    {
     "data": {
      "image/jpeg": "[encoded data removed]",
      "text/html": [
       "\n",
       "        <iframe\n",
       "            width=\"800\"\n",
       "            height=\"500\"\n",
       "            src=\"https://www.youtube.com/embed/2wpK-LDvtuc\"\n",
       "            frameborder=\"0\"\n",
       "            allowfullscreen\n",
       "        ></iframe>\n",
       "        "
      ],
      "text/plain": [
       "<IPython.lib.display.YouTubeVideo at 0x1110aaa90>"
      ]
     },
     "execution_count": 9,
     "metadata": {},
     "output_type": "execute_result"
    }
   ],
   "source": [
    "YouTubeVideo('LHoAh2Bo83c', height=500, width=800)\n",
    "YouTubeVideo('2wpK-LDvtuc', height=500, width=800)"
   ]
  },
  {
   "cell_type": "code",
   "execution_count": 10,
   "metadata": {},
   "outputs": [
    {
     "data": {
      "text/html": [
       "<script>\n",
       "  $(document).ready(function(){\n",
       "    $('div.prompt').hide();\n",
       "    $('div.back-to-top').hide();\n",
       "    $('nav#menubar').hide();\n",
       "    $('.breadcrumb').hide();\n",
       "    $('.hidden-print').hide();\n",
       "  });\n",
       "</script>\n",
       "\n",
       "<footer id=\"attribution\" style=\"float:right; color:#999; background:#fff;\">\n",
       "Created with Jupyter, Sympy, Numpy &emsp; - &emsp; MECA654 &nbsp; - &nbsp; Polytech Annecy-Chambéry &nbsp; - &nbsp; Pierre Nagorny &nbsp; - &nbsp; March 2018\n",
       "</footer>"
      ],
      "text/plain": [
       "<IPython.core.display.HTML object>"
      ]
     },
     "metadata": {},
     "output_type": "display_data"
    }
   ],
   "source": [
    "%%HTML\n",
    "<script>\n",
    "  $(document).ready(function(){\n",
    "    $('div.prompt').hide();\n",
    "    $('div.back-to-top').hide();\n",
    "    $('nav#menubar').hide();\n",
    "    $('.breadcrumb').hide();\n",
    "    $('.hidden-print').hide();\n",
    "  });\n",
    "</script>\n",
    "\n",
    "<footer id=\"attribution\" style=\"float:right; color:#999; background:#fff;\">\n",
    "Created with Jupyter, Sympy, Numpy &emsp; - &emsp; MECA654 &nbsp; - &nbsp; Polytech Annecy-Chambéry &nbsp; - &nbsp; Pierre Nagorny &nbsp; - &nbsp; March 2018\n",
    "</footer>"
   ]
  },
  {
   "cell_type": "code",
   "execution_count": null,
   "metadata": {},
   "outputs": [],
   "source": []
  }
 ],
 "metadata": {
  "kernelspec": {
   "display_name": "Python 3",
   "language": "python",
   "name": "python3"
  },
  "language_info": {
   "codemirror_mode": {
    "name": "ipython",
    "version": 3
   },
   "file_extension": ".py",
   "mimetype": "text/x-python",
   "name": "python",
   "nbconvert_exporter": "python",
   "pygments_lexer": "ipython3",
   "version": "3.6.4"
  }
 },
 "nbformat": 4,
 "nbformat_minor": 2
}
