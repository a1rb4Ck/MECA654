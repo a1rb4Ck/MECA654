{
 "cells": [
  {
   "cell_type": "code",
   "execution_count": 1,
   "metadata": {},
   "outputs": [
    {
     "data": {
      "text/html": [
       "<script>\n",
       "  function code_toggle() {\n",
       "    if (code_shown){\n",
       "      $('div.input').hide('500');\n",
       "      $('#toggleButton').val('Show Code')\n",
       "    } else {\n",
       "      $('div.input').show('500');\n",
       "      $('#toggleButton').val('Hide Code')\n",
       "    }\n",
       "    code_shown = !code_shown\n",
       "  }\n",
       "\n",
       "  $( document ).ready(function(){\n",
       "    code_shown=false;\n",
       "    $('div.input').hide()\n",
       "  });\n",
       "</script>\n",
       "<form action=\"javascript:code_toggle()\"><input type=\"submit\" id=\"toggleButton\" value=\"Show Code\"></form>\n",
       "<a href=\"https://github.com/a1rb4Ck/MECA654\"><img style=\"position: absolute; top: 0; right: 0; border: 0;\" src=\"https://s3.amazonaws.com/github/ribbons/forkme_right_darkblue_121621.png\" alt=\"Fork me on GitHub\"></a>"
      ],
      "text/plain": [
       "<IPython.core.display.HTML object>"
      ]
     },
     "metadata": {},
     "output_type": "display_data"
    }
   ],
   "source": [
    "%%%HTML\n",
    "<script>\n",
    "  function code_toggle() {\n",
    "    if (code_shown){\n",
    "      $('div.input').hide('500');\n",
    "      $('#toggleButton').val('Show Code')\n",
    "    } else {\n",
    "      $('div.input').show('500');\n",
    "      $('#toggleButton').val('Hide Code')\n",
    "    }\n",
    "    code_shown = !code_shown\n",
    "  }\n",
    "\n",
    "  $( document ).ready(function(){\n",
    "    code_shown=false;\n",
    "    $('div.input').hide()\n",
    "  });\n",
    "</script>\n",
    "<form action=\"javascript:code_toggle()\"><input type=\"submit\" id=\"toggleButton\" value=\"Show Code\"></form>\n",
    "<a href=\"https://github.com/a1rb4Ck/MECA654\"><img style=\"position: absolute; top: 0; right: 0; border: 0;\" src=\"https://s3.amazonaws.com/github/ribbons/forkme_right_darkblue_121621.png\" alt=\"Fork me on GitHub\"></a>"
   ]
  },
  {
   "cell_type": "code",
   "execution_count": 2,
   "metadata": {},
   "outputs": [],
   "source": [
    "# MECA654, March 2018, Pierre Nagorny\n",
    "# Polytech Annecy-Chambéry, SYMME lab, Savoie Mont Blanc University\n",
    "\n",
    "from IPython.display import display, HTML, IFrame, Math\n",
    "from IPython.core.interactiveshell import InteractiveShell\n",
    "import numpy as np\n",
    "import matplotlib as mpl\n",
    "from matplotlib import pyplot as plt  # Loading Pyplot\n",
    "from scipy.interpolate import interp1d\n",
    "# Setting Matplotlib render backend\n",
    "%matplotlib notebook\n",
    "# %matplotlib nbagg\n",
    "# %pylab inline\n",
    "from sympy import *  # Loading Sympy for symbolic calculus\n",
    "from sympy.physics.vector import *  # Everything needed for vector calculs, ReferenceFrame, dynamic\n",
    "from sympy.physics.vector import init_vprinting  # To print time varying vectors\n",
    "\n",
    "init_printing()\n",
    "init_vprinting(pretty_print=True)\n",
    "\n",
    "# Display full output in Jupyter Notebook\n",
    "InteractiveShell.ast_node_interactivity = \"all\""
   ]
  },
  {
   "cell_type": "markdown",
   "metadata": {
    "button": false,
    "new_sheet": false,
    "run_control": {
     "read_only": false
    }
   },
   "source": [
    "__MECA654, March 2018, Polytech Annecy-Chambéry__  \n",
    "[This interactive notebook is on Github](https://github.com/a1rb4Ck/MECA654)  \n",
    "\n",
    "## Exercise 7 - Spherical robot\n",
    "### Speeds composition and acceleration calculus\n",
    "\n",
    "A robot is composed of 3 bodies.\n",
    "The mechanical links between bodies are :  \n",
    "$0 / 1$ : pivot with axis $O \\vec{y_1}$  \n",
    "$1 / 2$ : pivot with axis $O \\vec{z_1}$  \n",
    "$2 / 3$ : linear slide with axis $O \\vec{x_2}$   \n",
    "\n",
    "Those links are controlled by three motors. Thus angles $\\theta_1$, $\\theta_2$ and the lenght $r$ are variable."
   ]
  },
  {
   "cell_type": "markdown",
   "metadata": {
    "button": false,
    "new_sheet": false,
    "run_control": {
     "read_only": false
    }
   },
   "source": [
    "![Robot schematic](./img/k_Ex7.svg)"
   ]
  },
  {
   "cell_type": "code",
   "execution_count": 3,
   "metadata": {},
   "outputs": [
    {
     "data": {
      "text/html": [
       "\n",
       "        <iframe\n",
       "            width=\"640\"\n",
       "            height=\"562\"\n",
       "            src=\"http://www.glowscript.org/#/user/a1rb4Ck/folder/MECA654/program/sphericalrobot\"\n",
       "            frameborder=\"0\"\n",
       "            allowfullscreen\n",
       "        ></iframe>\n",
       "        "
      ],
      "text/plain": [
       "<IPython.lib.display.IFrame at 0x105d5f048>"
      ]
     },
     "execution_count": 3,
     "metadata": {},
     "output_type": "execute_result"
    }
   ],
   "source": [
    "IFrame('http://www.glowscript.org/#/user/a1rb4Ck/folder/MECA654/program/sphericalrobot', width=640, height=562)"
   ]
  },
  {
   "cell_type": "code",
   "execution_count": 4,
   "metadata": {},
   "outputs": [],
   "source": [
    "# dynamicsymbols is a shortcut function to create undefined functions of time within SymPy\n",
    "r, theta_1, theta_2, t, OM = symbols('r theta_1 theta_2 t OM')\n",
    "theta_1, theta_2 = dynamicsymbols('theta_1 theta_2')\n",
    "theta_1dot = dynamicsymbols('theta_1', 1)\n",
    "theta_2dot = dynamicsymbols('theta_2', 1)\n",
    "\n",
    "# Our reference frames for each body:\n",
    "B0 = ReferenceFrame('B0', indices=['i', 'j', 'k'])\n",
    "B1 = ReferenceFrame('B1', indices=['i', 'j', 'k'])\n",
    "B2 = ReferenceFrame('B2', indices=['i', 'j', 'k'])\n",
    "\n",
    "# We define space transformation relations in our problem:\n",
    "B1.orient(B0, 'Axis', [theta_1, B0.y])  # Rotation of axis (O, y1), same as (O, y0)\n",
    "B2.orient(B1, 'Axis', [-theta_2, B1.z])  # Rotation of axis (O, z1)\n",
    "\n",
    "# We can easily get the DCM of any reference frame!\n",
    "# B1.dcm(B0)"
   ]
  },
  {
   "cell_type": "markdown",
   "metadata": {
    "button": false,
    "new_sheet": false,
    "run_control": {
     "read_only": false
    }
   },
   "source": [
    "**1. What is the movement of $(3)$ in relation to $(2)$?** _It's a translation of $r$._\n",
    "\n",
    "---\n",
    "**Method for solving**  \n",
    "1. Differentiate the $\\overrightarrow{OM}$ vector in the main reference frame, here it is $(2)$  \n",
    "2. Express the vector in the asked reference frame, here it is $(1)$  \n",
    "---\n",
    "\n",
    "- Differentiate $\\overrightarrow{V_{23}(M)}$ in the $(2)$ reference frame: "
   ]
  },
  {
   "cell_type": "code",
   "execution_count": 5,
   "metadata": {
    "button": false,
    "new_sheet": false,
    "run_control": {
     "read_only": false
    }
   },
   "outputs": [
    {
     "data": {
      "text/latex": [
       "$$\\overrightarrow{OM}=r\\mathbf{\\hat{b2}_{i}} \\ in \\ the \\ B_2 \\ base$$"
      ],
      "text/plain": [
       "<IPython.core.display.Math object>"
      ]
     },
     "metadata": {},
     "output_type": "display_data"
    }
   ],
   "source": [
    "# We define the OM vector translation\n",
    "OM = r(t) * B2['i']\n",
    "display(Math(r'\\overrightarrow{OM}=%s \\ %s' % (latex(OM), latex('in \\ the \\ B_2 \\ base'))))"
   ]
  },
  {
   "cell_type": "code",
   "execution_count": 6,
   "metadata": {},
   "outputs": [
    {
     "data": {
      "text/latex": [
       "$$\\overrightarrow{V_{23}(M)}=\\dot{r}\\mathbf{\\hat{b2}_{i}} \\ in \\ the \\ B_2 \\ base$$"
      ],
      "text/plain": [
       "<IPython.core.display.Math object>"
      ]
     },
     "metadata": {},
     "output_type": "display_data"
    }
   ],
   "source": [
    "# Differentiate a vector with respect to a variable in a reference frame:\n",
    "# V_23 = OM.diff(t, B2)\n",
    "V_23 = OM.dt(B2)  # The reference frame for derivation is (2) because we want V_23 !\n",
    "display(Math(r'\\overrightarrow{V_{23}(M)}=%s \\ %s' % (latex(V_23), latex('in \\ the \\ B_2 \\ base'))))"
   ]
  },
  {
   "cell_type": "markdown",
   "metadata": {
    "button": false,
    "new_sheet": false,
    "run_control": {
     "read_only": false
    }
   },
   "source": [
    "- Express $\\overrightarrow{V_{23}(M)}$ in the $(1)$ reference frame:  "
   ]
  },
  {
   "cell_type": "code",
   "execution_count": 7,
   "metadata": {
    "button": false,
    "new_sheet": false,
    "run_control": {
     "read_only": false
    }
   },
   "outputs": [
    {
     "data": {
      "text/latex": [
       "$$\\overrightarrow{V_{23}(M)}=\\operatorname{cos}\\left(\\theta_{2}\\right) \\dot{r}\\mathbf{\\hat{b1}_{i}} -  \\operatorname{sin}\\left(\\theta_{2}\\right) \\dot{r}\\mathbf{\\hat{b1}_{j}} \\ in \\ the \\ B_1 \\ base$$"
      ],
      "text/plain": [
       "<IPython.core.display.Math object>"
      ]
     },
     "metadata": {},
     "output_type": "display_data"
    }
   ],
   "source": [
    "# We project the x2 vector in the B1 reference frame\n",
    "# x_2 = cos(theta_2) * x_1 + sin(theta_2) * y_1 + 0 * z_1\n",
    "# y_2 = -sin(theta_2) * x_1 + cos(theta_2) * y_1 + 0 * z_1\n",
    "# z_2 = z_1\n",
    "\n",
    "# Express the vector that we originally wrote in the B2 frame, in the B1 frame:\n",
    "# V_23.express(B1)  # V_23 in the B1 base\n",
    "display(Math(r'\\overrightarrow{V_{23}(M)}=%s \\ %s' % (latex(V_23.express(B1)), latex('in \\ the \\ B_1 \\ base'))))"
   ]
  },
  {
   "cell_type": "markdown",
   "metadata": {
    "button": false,
    "new_sheet": false,
    "run_control": {
     "read_only": false
    }
   },
   "source": [
    "**2. What is the movement of (2) in relation to (1)?** _It's a rotation of angle $\\theta_2$._\n",
    "- Differentiate $\\overrightarrow{V_{12}(M)}$ in the $(1)$ reference frame: "
   ]
  },
  {
   "cell_type": "code",
   "execution_count": 8,
   "metadata": {
    "button": false,
    "new_sheet": false,
    "run_control": {
     "read_only": false
    }
   },
   "outputs": [
    {
     "data": {
      "text/latex": [
       "$$\\overrightarrow{OM}=r\\mathbf{\\hat{b2}_{i}} \\ in \\ the \\ B_2 \\ base$$"
      ],
      "text/plain": [
       "<IPython.core.display.Math object>"
      ]
     },
     "metadata": {},
     "output_type": "display_data"
    }
   ],
   "source": [
    "# We define the OM rotation movement\n",
    "OM = r * B2.x\n",
    "display(Math(r'\\overrightarrow{OM}=%s \\ %s' % (latex(OM), latex('in \\ the \\ B_2 \\ base'))))"
   ]
  },
  {
   "cell_type": "code",
   "execution_count": 9,
   "metadata": {},
   "outputs": [
    {
     "data": {
      "text/latex": [
       "$$\\Omega_2=-  \\dot{\\theta}_{2}\\mathbf{\\hat{b1}_{k}} \\ angular \\ velocity \\ of \\ B_2 \\ with \\ respect \\ to \\ B_1$$"
      ],
      "text/plain": [
       "<IPython.core.display.Math object>"
      ]
     },
     "metadata": {},
     "output_type": "display_data"
    }
   ],
   "source": [
    "# Angular velocity of B2 with respect to B1\n",
    "# B2.ang_vel_in(B1)\n",
    "display(Math(r'\\Omega_2=%s \\ %s' % (latex(B2.ang_vel_in(B1)), latex('angular \\ velocity \\ of \\ B_2 \\ with \\ respect \\ to \\ B_1'))))"
   ]
  },
  {
   "cell_type": "code",
   "execution_count": 10,
   "metadata": {},
   "outputs": [
    {
     "data": {
      "text/latex": [
       "$$\\overrightarrow{V_{12}(M)}=-  r \\dot{\\theta}_{2}\\mathbf{\\hat{b2}_{j}} \\ in \\ the \\ B_2 \\ base$$"
      ],
      "text/plain": [
       "<IPython.core.display.Math object>"
      ]
     },
     "metadata": {},
     "output_type": "display_data"
    }
   ],
   "source": [
    "V_12 = OM.dt(B1)  # The reference frame for derivation is (1) because we want V_12!\n",
    "# V_12  # V_12 in the B2 base\n",
    "display(Math(r'\\overrightarrow{V_{12}(M)}=%s \\ %s' % (latex(V_12), latex('in \\ the \\ B_2 \\ base'))))"
   ]
  },
  {
   "cell_type": "markdown",
   "metadata": {
    "button": false,
    "new_sheet": false,
    "run_control": {
     "read_only": false
    }
   },
   "source": [
    "- Express $\\overrightarrow{V_{12}(M)}$ in the $(1)$ reference frame:  "
   ]
  },
  {
   "cell_type": "code",
   "execution_count": 11,
   "metadata": {
    "button": false,
    "new_sheet": false,
    "run_control": {
     "read_only": false
    }
   },
   "outputs": [
    {
     "data": {
      "text/latex": [
       "$$\\overrightarrow{V_{12}(M)}=-  r \\operatorname{sin}\\left(\\theta_{2}\\right) \\dot{\\theta}_{2}\\mathbf{\\hat{b1}_{i}} -  r \\operatorname{cos}\\left(\\theta_{2}\\right) \\dot{\\theta}_{2}\\mathbf{\\hat{b1}_{j}} \\ in \\ the \\ B_1 \\ base$$"
      ],
      "text/plain": [
       "<IPython.core.display.Math object>"
      ]
     },
     "metadata": {},
     "output_type": "display_data"
    }
   ],
   "source": [
    "# We project the y2 vector in the B1 reference frame\n",
    "# V_12.express(B1)  # V_12 in the B1 base\n",
    "display(Math(r'\\overrightarrow{V_{12}(M)}=%s \\ %s' % (latex(V_12.express(B1)), latex('in \\ the \\ B_1 \\ base'))))"
   ]
  },
  {
   "cell_type": "markdown",
   "metadata": {
    "button": false,
    "new_sheet": false,
    "run_control": {
     "read_only": false
    }
   },
   "source": [
    "**3. What is the movement of $(1)$ in relation to $(0)$?** _It's a rotation of angle $\\theta_1$_\n",
    "- Differentiate $\\overrightarrow{V_{01}(M)}$ in the $(0)$ reference frame: "
   ]
  },
  {
   "cell_type": "code",
   "execution_count": 12,
   "metadata": {
    "button": false,
    "new_sheet": false,
    "run_control": {
     "read_only": false
    }
   },
   "outputs": [
    {
     "data": {
      "text/latex": [
       "$$\\overrightarrow{OM}=\\mathbf{\\hat{b1}_{i}} \\ in \\ the \\ B_1 \\ base$$"
      ],
      "text/plain": [
       "<IPython.core.display.Math object>"
      ]
     },
     "metadata": {},
     "output_type": "display_data"
    }
   ],
   "source": [
    "# We define the OM rotation movement\n",
    "OM = B1.x\n",
    "display(Math(r'\\overrightarrow{OM}=%s \\ %s' % (latex(OM), latex('in \\ the \\ B_1 \\ base'))))"
   ]
  },
  {
   "cell_type": "code",
   "execution_count": 13,
   "metadata": {},
   "outputs": [
    {
     "data": {
      "text/latex": [
       "$$\\overrightarrow{V_{01}(M)}=-  \\dot{\\theta}_{1}\\mathbf{\\hat{b1}_{k}} \\ in \\ the \\ B_1 \\ base$$"
      ],
      "text/plain": [
       "<IPython.core.display.Math object>"
      ]
     },
     "metadata": {},
     "output_type": "display_data"
    }
   ],
   "source": [
    "V_01 = OM.dt(B0)  # The reference frame for derivation is (0) because we want V_01!\n",
    "display(Math(r'\\overrightarrow{V_{01}(M)}=%s \\ %s' % (latex(V_01), latex('in \\ the \\ B_1 \\ base'))))"
   ]
  },
  {
   "cell_type": "markdown",
   "metadata": {
    "button": false,
    "new_sheet": false,
    "run_control": {
     "read_only": false
    }
   },
   "source": [
    "**4. What is the speed of M in the reference frame $(0)$?**  \n",
    "- $\\overrightarrow{V_{03}(M)} = \\overrightarrow{V_{01}(M)} + \\overrightarrow{V_{12}(M)} + \\overrightarrow{V_{23}(M)}$ in the same reference frame, here we choose $(1)$ :"
   ]
  },
  {
   "cell_type": "code",
   "execution_count": 14,
   "metadata": {
    "button": false,
    "new_sheet": false,
    "run_control": {
     "read_only": false
    }
   },
   "outputs": [
    {
     "data": {
      "text/latex": [
       "$$\\overrightarrow{V_{03}(M)}=(- r \\operatorname{sin}\\left(\\theta_{2}\\right) \\dot{\\theta}_{2} + \\operatorname{cos}\\left(\\theta_{2}\\right) \\dot{r})\\mathbf{\\hat{b1}_{i}} + (- r \\operatorname{cos}\\left(\\theta_{2}\\right) \\dot{\\theta}_{2} - \\operatorname{sin}\\left(\\theta_{2}\\right) \\dot{r})\\mathbf{\\hat{b1}_{j}} -  \\dot{\\theta}_{1}\\mathbf{\\hat{b1}_{k}} \\ in \\ the \\ B_1 \\ base$$"
      ],
      "text/plain": [
       "<IPython.core.display.Math object>"
      ]
     },
     "metadata": {},
     "output_type": "display_data"
    }
   ],
   "source": [
    "V_03 = V_01.express(B1) + V_12.express(B1) + V_23.express(B1)\n",
    "# V_03.to_matrix(B1)\n",
    "display(Math(r'\\overrightarrow{V_{03}(M)}=%s \\ %s' % (latex(V_03.express(B1)), latex('in \\ the \\ B_1 \\ base'))))"
   ]
  },
  {
   "cell_type": "markdown",
   "metadata": {
    "button": false,
    "new_sheet": false,
    "run_control": {
     "read_only": false
    }
   },
   "source": [
    "- Express $\\overrightarrow{V_{03}(M)}$ in the $(0)$ reference frame:  "
   ]
  },
  {
   "cell_type": "code",
   "execution_count": 15,
   "metadata": {
    "button": false,
    "new_sheet": false,
    "run_control": {
     "read_only": false
    }
   },
   "outputs": [
    {
     "data": {
      "text/latex": [
       "$$\\overrightarrow{V_{03}(M)}=(\\left(- r \\operatorname{sin}\\left(\\theta_{2}\\right) \\dot{\\theta}_{2} + \\operatorname{cos}\\left(\\theta_{2}\\right) \\dot{r}\\right) \\operatorname{cos}\\left(\\theta_{1}\\right) - \\operatorname{sin}\\left(\\theta_{1}\\right) \\dot{\\theta}_{1})\\mathbf{\\hat{b0}_{i}} + (- r \\operatorname{cos}\\left(\\theta_{2}\\right) \\dot{\\theta}_{2} - \\operatorname{sin}\\left(\\theta_{2}\\right) \\dot{r})\\mathbf{\\hat{b0}_{j}} + (- \\left(- r \\operatorname{sin}\\left(\\theta_{2}\\right) \\dot{\\theta}_{2} + \\operatorname{cos}\\left(\\theta_{2}\\right) \\dot{r}\\right) \\operatorname{sin}\\left(\\theta_{1}\\right) - \\operatorname{cos}\\left(\\theta_{1}\\right) \\dot{\\theta}_{1})\\mathbf{\\hat{b0}_{k}} \\ in \\ the \\ B_0 \\ base$$"
      ],
      "text/plain": [
       "<IPython.core.display.Math object>"
      ]
     },
     "metadata": {},
     "output_type": "display_data"
    }
   ],
   "source": [
    "# V_03.to_matrix(B0)\n",
    "display(Math(r'\\overrightarrow{V_{03}(M)}=%s \\ %s' % (latex(V_03.express(B0)), latex('in \\ the \\ B_0 \\ base'))))"
   ]
  },
  {
   "cell_type": "markdown",
   "metadata": {
    "button": false,
    "new_sheet": false,
    "run_control": {
     "read_only": false
    }
   },
   "source": [
    "**5. What is the torseur of $(3)$ in relation to $(0)$ ?** \n",
    "- $\\Gamma_{03}(M) = \\Gamma_{01}(M) + \\Gamma_{12}(M) + \\Gamma_{23}(M)$ in the (0) reference frame:\n",
    "- $\\Gamma_{03}(M) = V_{03}(O) + \\Omega_{03} \\wedge \\overrightarrow{OM}$"
   ]
  },
  {
   "cell_type": "code",
   "execution_count": 16,
   "metadata": {
    "button": false,
    "new_sheet": false,
    "run_control": {
     "read_only": false
    }
   },
   "outputs": [
    {
     "data": {
      "text/latex": [
       "$$\\overrightarrow{V_{03}(M)}=\\left[\\begin{matrix}\\cos{\\left (\\theta_{2}{\\left (t \\right )} \\right )} \\frac{d}{d t} r{\\left (t \\right )}\\\\\\sin{\\left (\\theta_{2}{\\left (t \\right )} \\right )} \\frac{d}{d t} r{\\left (t \\right )}\\\\0\\end{matrix}\\right] \\ in \\ the \\ B_1 \\ base$$"
      ],
      "text/plain": [
       "<IPython.core.display.Math object>"
      ]
     },
     "metadata": {},
     "output_type": "display_data"
    },
    {
     "data": {
      "text/latex": [
       "$$\\overrightarrow{\\Omega_{03}(M)}=\\left[\\begin{matrix}0\\\\\\frac{d}{d t} \\theta_{1}{\\left (t \\right )}\\\\\\frac{d}{d t} \\theta_{2}{\\left (t \\right )}\\end{matrix}\\right] \\ in \\ the \\ B_1 \\ base$$"
      ],
      "text/plain": [
       "<IPython.core.display.Math object>"
      ]
     },
     "metadata": {},
     "output_type": "display_data"
    },
    {
     "data": {
      "text/latex": [
       "$$\\overrightarrow{V_{03}(M)}=\\left[\\begin{matrix}- r \\sin{\\left (\\theta_{2}{\\left (t \\right )} \\right )} \\frac{d}{d t} \\theta_{2}{\\left (t \\right )} + \\cos{\\left (\\theta_{2}{\\left (t \\right )} \\right )} \\frac{d}{d t} r{\\left (t \\right )}\\\\r \\cos{\\left (\\theta_{2}{\\left (t \\right )} \\right )} \\frac{d}{d t} \\theta_{2}{\\left (t \\right )} + \\sin{\\left (\\theta_{2}{\\left (t \\right )} \\right )} \\frac{d}{d t} r{\\left (t \\right )}\\\\- r \\cos{\\left (\\theta_{2}{\\left (t \\right )} \\right )} \\frac{d}{d t} \\theta_{1}{\\left (t \\right )}\\end{matrix}\\right] \\ in \\ the \\ B_1 \\ base$$"
      ],
      "text/plain": [
       "<IPython.core.display.Math object>"
      ]
     },
     "metadata": {},
     "output_type": "display_data"
    }
   ],
   "source": [
    "# We use matrix calculus with the reference frame change formula:\n",
    "# V_03(M) = V_03(O) + Rot_03 ^ OM\n",
    "\n",
    "V_03_O = Matrix([diff(r(t)) * cos(theta_2), diff(r(t)) * sin(theta_2), 0])  # in the B1 base\n",
    "display(Math(r'\\overrightarrow{V_{03}(M)}=%s \\ %s' % (latex(V_03_O), latex('in \\ the \\ B_1 \\ base'))))\n",
    "\n",
    "Rot_03 = Matrix([0, diff(theta_1), diff(theta_2)])  # in the B1 base\n",
    "display(Math(r'\\overrightarrow{\\Omega_{03}(M)}=%s \\ %s' % (latex(Rot_03), latex('in \\ the \\ B_1 \\ base'))))\n",
    "\n",
    "# print('V_03(M) = V_03(O) + Rot_03 ^ OM')\n",
    "OM = Matrix([r * cos(theta_2), r * sin(theta_2), 0])\n",
    "V_03_M_B1 = V_03_O + Rot_03.cross(OM)  # .cross(OM) is the same as ^OM\n",
    "display(Math(r'\\overrightarrow{V_{03}(M)}=%s \\ %s' % (latex(V_03_M_B1), latex('in \\ the \\ B_1 \\ base'))))"
   ]
  },
  {
   "cell_type": "markdown",
   "metadata": {
    "button": false,
    "new_sheet": false,
    "run_control": {
     "read_only": false
    }
   },
   "source": [
    "**6. What is the acceleration of $M$ in relation to $(0)$ ?** "
   ]
  },
  {
   "cell_type": "code",
   "execution_count": 17,
   "metadata": {
    "button": false,
    "new_sheet": false,
    "run_control": {
     "read_only": false
    }
   },
   "outputs": [
    {
     "data": {
      "text/latex": [
       "$$\\overrightarrow{A_{03}(M)}=\\left[\\begin{matrix}\\left(- \\left(- r \\sin{\\left (\\theta_{2}{\\left (t \\right )} \\right )} \\frac{d}{d t} \\theta_{2}{\\left (t \\right )} + \\cos{\\left (\\theta_{2}{\\left (t \\right )} \\right )} \\frac{d}{d t} r{\\left (t \\right )}\\right) \\frac{d}{d t} \\theta_{1}{\\left (t \\right )} - \\frac{d^{2}}{d t^{2}}  \\theta_{1}{\\left (t \\right )}\\right) \\sin{\\left (\\theta_{1}{\\left (t \\right )} \\right )} + \\left(- r \\sin{\\left (\\theta_{2}{\\left (t \\right )} \\right )} \\frac{d^{2}}{d t^{2}}  \\theta_{2}{\\left (t \\right )} - r \\cos{\\left (\\theta_{2}{\\left (t \\right )} \\right )} \\left(\\frac{d}{d t} \\theta_{2}{\\left (t \\right )}\\right)^{2} - \\sin{\\left (\\theta_{2}{\\left (t \\right )} \\right )} \\frac{d}{d t} r{\\left (t \\right )} \\frac{d}{d t} \\theta_{2}{\\left (t \\right )} + \\cos{\\left (\\theta_{2}{\\left (t \\right )} \\right )} \\frac{d^{2}}{d t^{2}}  r{\\left (t \\right )} - \\left(\\frac{d}{d t} \\theta_{1}{\\left (t \\right )}\\right)^{2}\\right) \\cos{\\left (\\theta_{1}{\\left (t \\right )} \\right )}\\\\r \\sin{\\left (\\theta_{2}{\\left (t \\right )} \\right )} \\left(\\frac{d}{d t} \\theta_{2}{\\left (t \\right )}\\right)^{2} - r \\cos{\\left (\\theta_{2}{\\left (t \\right )} \\right )} \\frac{d^{2}}{d t^{2}}  \\theta_{2}{\\left (t \\right )} - \\sin{\\left (\\theta_{2}{\\left (t \\right )} \\right )} \\frac{d^{2}}{d t^{2}}  r{\\left (t \\right )} - \\cos{\\left (\\theta_{2}{\\left (t \\right )} \\right )} \\frac{d}{d t} r{\\left (t \\right )} \\frac{d}{d t} \\theta_{2}{\\left (t \\right )}\\\\\\left(- \\left(- r \\sin{\\left (\\theta_{2}{\\left (t \\right )} \\right )} \\frac{d}{d t} \\theta_{2}{\\left (t \\right )} + \\cos{\\left (\\theta_{2}{\\left (t \\right )} \\right )} \\frac{d}{d t} r{\\left (t \\right )}\\right) \\frac{d}{d t} \\theta_{1}{\\left (t \\right )} - \\frac{d^{2}}{d t^{2}}  \\theta_{1}{\\left (t \\right )}\\right) \\cos{\\left (\\theta_{1}{\\left (t \\right )} \\right )} - \\left(- r \\sin{\\left (\\theta_{2}{\\left (t \\right )} \\right )} \\frac{d^{2}}{d t^{2}}  \\theta_{2}{\\left (t \\right )} - r \\cos{\\left (\\theta_{2}{\\left (t \\right )} \\right )} \\left(\\frac{d}{d t} \\theta_{2}{\\left (t \\right )}\\right)^{2} - \\sin{\\left (\\theta_{2}{\\left (t \\right )} \\right )} \\frac{d}{d t} r{\\left (t \\right )} \\frac{d}{d t} \\theta_{2}{\\left (t \\right )} + \\cos{\\left (\\theta_{2}{\\left (t \\right )} \\right )} \\frac{d^{2}}{d t^{2}}  r{\\left (t \\right )} - \\left(\\frac{d}{d t} \\theta_{1}{\\left (t \\right )}\\right)^{2}\\right) \\sin{\\left (\\theta_{1}{\\left (t \\right )} \\right )}\\end{matrix}\\right] \\ in \\ the \\ B_0 \\ base$$"
      ],
      "text/plain": [
       "<IPython.core.display.Math object>"
      ]
     },
     "metadata": {},
     "output_type": "display_data"
    }
   ],
   "source": [
    "# print(\"V_03''\")\n",
    "# V_03.dt(B0).to_matrix(B0)\n",
    "display(Math(r'\\overrightarrow{A_{03}(M)}=%s \\ %s' % (latex(V_03.dt(B0).to_matrix(B0)), latex('in \\ the \\ B_0 \\ base'))))"
   ]
  },
  {
   "cell_type": "code",
   "execution_count": 18,
   "metadata": {
    "button": false,
    "new_sheet": false,
    "run_control": {
     "read_only": false
    }
   },
   "outputs": [
    {
     "name": "stdout",
     "output_type": "stream",
     "text": [
      "\n",
      "= = = = = = = = = = = = = = = = = = = = = = = =\n",
      "Solve the exercise with another method:\n",
      "\n",
      "OM vector definition:\n"
     ]
    },
    {
     "data": {
      "image/png": "[encoded data removed]",
      "text/latex": [
       "$$r\\mathbf{\\hat{b2}_{i}}$$"
      ],
      "text/plain": [
       "r b2_i"
      ]
     },
     "execution_count": 18,
     "metadata": {},
     "output_type": "execute_result"
    },
    {
     "name": "stdout",
     "output_type": "stream",
     "text": [
      "M velocity in the B2 frame: aka V_23 in B2\n"
     ]
    },
    {
     "data": {
      "image/png": "[encoded data removed]",
      "text/latex": [
       "$$\\dot{r}\\mathbf{\\hat{b2}_{i}}$$"
      ],
      "text/plain": [
       "ṙ b2_i"
      ]
     },
     "execution_count": 18,
     "metadata": {},
     "output_type": "execute_result"
    },
    {
     "name": "stdout",
     "output_type": "stream",
     "text": [
      "M velocity in the B1 frame: aka V_23 in B1\n"
     ]
    },
    {
     "data": {
      "image/png": "[encoded data removed]",
      "text/latex": [
       "$$\\operatorname{cos}\\left(\\theta_{2}\\right) \\dot{r}\\mathbf{\\hat{b1}_{i}} -  \\operatorname{sin}\\left(\\theta_{2}\\right) \\dot{r}\\mathbf{\\hat{b1}_{j}}$$"
      ],
      "text/plain": [
       "cos(θ₂)⋅ṙ b1_i + -sin(θ₂)⋅ṙ b1_j"
      ]
     },
     "execution_count": 18,
     "metadata": {},
     "output_type": "execute_result"
    },
    {
     "name": "stdout",
     "output_type": "stream",
     "text": [
      "M velocity in the B1 frame: aka V_12 in B1\n"
     ]
    },
    {
     "data": {
      "image/png": "[encoded data removed]",
      "text/latex": [
       "$$-  r \\operatorname{sin}\\left(\\theta_{2}\\right) \\dot{\\theta}_{2}\\mathbf{\\hat{b1}_{i}} -  r \\operatorname{cos}\\left(\\theta_{2}\\right) \\dot{\\theta}_{2}\\mathbf{\\hat{b1}_{j}}$$"
      ],
      "text/plain": [
       "-r⋅sin(θ₂)⋅θ₂̇ b1_i + -r⋅cos(θ₂)⋅θ₂̇ b1_j"
      ]
     },
     "execution_count": 18,
     "metadata": {},
     "output_type": "execute_result"
    },
    {
     "name": "stdout",
     "output_type": "stream",
     "text": [
      "M velocity in the B0 frame: aka V_01 in B0\n"
     ]
    },
    {
     "data": {
      "image/png": "[encoded data removed]",
      "text/latex": [
       "$$-  \\operatorname{sin}\\left(\\theta_{1}\\right) \\dot{\\theta}_{1}\\mathbf{\\hat{b0}_{i}} -  \\operatorname{cos}\\left(\\theta_{1}\\right) \\dot{\\theta}_{1}\\mathbf{\\hat{b0}_{k}}$$"
      ],
      "text/plain": [
       "-sin(θ₁)⋅θ₁̇ b0_i + -cos(θ₁)⋅θ₁̇ b0_k"
      ]
     },
     "execution_count": 18,
     "metadata": {},
     "output_type": "execute_result"
    },
    {
     "name": "stdout",
     "output_type": "stream",
     "text": [
      "M velocity in the B1 frame: aka V_01 in B1\n"
     ]
    },
    {
     "data": {
      "image/png": "[encoded data removed]",
      "text/latex": [
       "$$-  \\dot{\\theta}_{1}\\mathbf{\\hat{b1}_{k}}$$"
      ],
      "text/plain": [
       "-θ₁̇ b1_k"
      ]
     },
     "execution_count": 18,
     "metadata": {},
     "output_type": "execute_result"
    },
    {
     "name": "stdout",
     "output_type": "stream",
     "text": [
      "M acceleration in the B1 frame:\n"
     ]
    },
    {
     "data": {
      "text/latex": [
       "$$\\left[\\begin{matrix}- r \\operatorname{sin}\\left(\\theta_{2}\\right) \\ddot{\\theta}_{2} - r \\operatorname{cos}\\left(\\theta_{2}\\right) \\dot{\\theta}_{2}^{2}\\\\r \\operatorname{sin}\\left(\\theta_{2}\\right) \\dot{\\theta}_{2}^{2} - r \\operatorname{cos}\\left(\\theta_{2}\\right) \\ddot{\\theta}_{2}\\\\0\\end{matrix}\\right]$$"
      ],
      "text/plain": [
       "⎡                              2⎤\n",
       "⎢-r⋅sin(θ₂)⋅θ₂̈ - r⋅cos(θ₂)⋅θ₂̇ ⎥\n",
       "⎢                               ⎥\n",
       "⎢             2                 ⎥\n",
       "⎢r⋅sin(θ₂)⋅θ₂̇  - r⋅cos(θ₂)⋅θ₂̈ ⎥\n",
       "⎢                               ⎥\n",
       "⎣               0               ⎦"
      ]
     },
     "execution_count": 18,
     "metadata": {},
     "output_type": "execute_result"
    },
    {
     "name": "stdout",
     "output_type": "stream",
     "text": [
      "M acceleration in the B0 frame:\n"
     ]
    },
    {
     "data": {
      "text/latex": [
       "$$\\left[\\begin{matrix}- (\\operatorname{sin}\\left(\\theta_{1}\\right) \\ddot{\\theta}_{1} + \\operatorname{cos}\\left(\\theta_{1}\\right) \\dot{\\theta}_{1}^{2})\\\\0\\\\\\operatorname{sin}\\left(\\theta_{1}\\right) \\dot{\\theta}_{1}^{2} - \\operatorname{cos}\\left(\\theta_{1}\\right) \\ddot{\\theta}_{1}\\end{matrix}\\right]$$"
      ],
      "text/plain": [
       "⎡ ⎛                         2⎞⎤\n",
       "⎢-⎝sin(θ₁)⋅θ₁̈ + cos(θ₁)⋅θ₁̇ ⎠⎥\n",
       "⎢                             ⎥\n",
       "⎢              0              ⎥\n",
       "⎢                             ⎥\n",
       "⎢            2                ⎥\n",
       "⎣ sin(θ₁)⋅θ₁̇  - cos(θ₁)⋅θ₁̈  ⎦"
      ]
     },
     "execution_count": 18,
     "metadata": {},
     "output_type": "execute_result"
    }
   ],
   "source": [
    "# TODO: Why don't we find the same results ??!\n",
    "print(\"\\n= = = = = = = = = = = = = = = = = = = = = = = =\")\n",
    "print(\"Solve the exercise with another method:\\n\")\n",
    "# Another method with O and M points:\n",
    "# Define the Origin Point\n",
    "O = Point('O')\n",
    "O.set_vel(B0, 0)  # Set velocity of O\n",
    "O.set_acc(B0, 0)  # Set acceleration of O\n",
    "\n",
    "# Define the M point from the origin\n",
    "M = O.locatenew('M', r(t) * B2.x)\n",
    "# Check the OM vector:\n",
    "print(\"OM vector definition:\")\n",
    "M.pos_from(O)\n",
    "\n",
    "# Set velocity of M in the B2 reference frame\n",
    "print(\"M velocity in the B2 frame: aka V_23 in B2\")\n",
    "M.set_vel(B2, M.pos_from(O).dt(B2))\n",
    "M.vel(B2)\n",
    "print(\"M velocity in the B1 frame: aka V_23 in B1\")\n",
    "M.vel(B2).express(B1)\n",
    "\n",
    "print(\"M velocity in the B1 frame: aka V_12 in B1\")\n",
    "M.set_vel(B1, (r * B2.x).dt(B1))  # Set velocity in the B1 reference frame\n",
    "M.vel(B1).express(B1)\n",
    "\n",
    "print(\"M velocity in the B0 frame: aka V_01 in B0\")\n",
    "M.set_vel(B0, (B1.x).dt(B0))  # Set velocity in the B1 reference frame\n",
    "M.vel(B0).express(B0)\n",
    "print(\"M velocity in the B1 frame: aka V_01 in B1\")\n",
    "M.vel(B0).express(B1)\n",
    "\n",
    "print(\"M acceleration in the B1 frame:\")\n",
    "M.acc(B1).to_matrix(B1)\n",
    "\n",
    "print(\"M acceleration in the B0 frame:\")\n",
    "trigsimp(M.acc(B0).to_matrix(B0))"
   ]
  },
  {
   "cell_type": "code",
   "execution_count": 19,
   "metadata": {},
   "outputs": [
    {
     "data": {
      "text/html": [
       "<script>\n",
       "  $(document).ready(function(){\n",
       "    $('div.prompt').hide();\n",
       "    $('div.back-to-top').hide();\n",
       "    $('nav#menubar').hide();\n",
       "    $('.breadcrumb').hide();\n",
       "    $('.hidden-print').hide();\n",
       "  });\n",
       "</script>\n",
       "\n",
       "<footer id=\"attribution\" style=\"float:right; color:#999; background:#fff;\">\n",
       "Created with Jupyter, Sympy, GlowScript, Numpy &emsp; - &emsp; MECA654 &nbsp; - &nbsp; Polytech Annecy-Chambéry &nbsp; - &nbsp; Pierre Nagorny &nbsp; - &nbsp; March 2018\n",
       "</footer>"
      ],
      "text/plain": [
       "<IPython.core.display.HTML object>"
      ]
     },
     "metadata": {},
     "output_type": "display_data"
    }
   ],
   "source": [
    "%%HTML\n",
    "<script>\n",
    "  $(document).ready(function(){\n",
    "    $('div.prompt').hide();\n",
    "    $('div.back-to-top').hide();\n",
    "    $('nav#menubar').hide();\n",
    "    $('.breadcrumb').hide();\n",
    "    $('.hidden-print').hide();\n",
    "  });\n",
    "</script>\n",
    "\n",
    "<footer id=\"attribution\" style=\"float:right; color:#999; background:#fff;\">\n",
    "Created with Jupyter, Sympy, GlowScript, Numpy &emsp; - &emsp; MECA654 &nbsp; - &nbsp; Polytech Annecy-Chambéry &nbsp; - &nbsp; Pierre Nagorny &nbsp; - &nbsp; March 2018\n",
    "</footer>"
   ]
  }
 ],
 "metadata": {
  "kernelspec": {
   "display_name": "Python 3",
   "language": "python",
   "name": "python3"
  },
  "language_info": {
   "codemirror_mode": {
    "name": "ipython",
    "version": 3
   },
   "file_extension": ".py",
   "mimetype": "text/x-python",
   "name": "python",
   "nbconvert_exporter": "python",
   "pygments_lexer": "ipython3",
   "version": "3.6.4"
  }
 },
 "nbformat": 4,
 "nbformat_minor": 2
}
