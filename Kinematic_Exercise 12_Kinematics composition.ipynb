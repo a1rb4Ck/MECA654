{
 "cells": [
  {
   "cell_type": "code",
   "execution_count": 3,
   "metadata": {
    "button": false,
    "new_sheet": false,
    "run_control": {
     "read_only": false
    }
   },
   "outputs": [],
   "source": [
    "# MECA654, March 2018, Pierre Nagorny\n",
    "# Polytech Annecy-Chambéry, SYMME lab, Savoie Mont Blanc University\n",
    "\n",
    "from IPython.display import display, HTML, IFrame, Math\n",
    "from IPython.core.interactiveshell import InteractiveShell\n",
    "from IPython.display import YouTubeVideo\n",
    "import numpy as np\n",
    "import matplotlib as mpl\n",
    "from matplotlib import pyplot as plt  # Loading Pyplot\n",
    "from scipy.interpolate import interp1d\n",
    "# Setting Matplotlib render backend\n",
    "%matplotlib nbagg\n",
    "#%pylab inline\n",
    "from sympy import *  # Loading Sympy for symbolic calculus\n",
    "from sympy.physics.vector import *  # Everything needed for vector calculs, Reference frame, dynamic\n",
    "from sympy.physics.vector import init_vprinting  # To print time varying vectors\n",
    "\n",
    "init_printing()\n",
    "init_vprinting(pretty_print=True)\n",
    "\n",
    "# Display full output in Jupyter Notebook\n",
    "InteractiveShell.ast_node_interactivity = \"all\""
   ]
  },
  {
   "cell_type": "markdown",
   "metadata": {
    "button": false,
    "new_sheet": false,
    "run_control": {
     "read_only": false
    }
   },
   "source": [
    "## Exercise 12 - Kinematics composition\n",
    "\n",
    "$(1)$ is an excentric wheel  \n",
    "$(2)$ is a plate on top of $(1)$, $(1)$ is sliding on $(2)$  \n",
    "$(2) / (0)$ is a sliding joint,  axis $\\vec{j_0}$  \n",
    "\n",
    "$\\theta_{1}$ is the rotation of $(1)$, axis $\\vec{k_0}$, same axis as $\\vec{k_1}$  \n",
    "$y_{2}$ is the lenght between $\\vec{i_0}$ and $M$, axis $\\vec{j_0}$  \n",
    "\n",
    "$R$ is the $(1)$ wheel radius  \n",
    "$e$ is the distance of the $\\vec{k_1}$ shaft from the wheel's center"
   ]
  },
  {
   "cell_type": "markdown",
   "metadata": {
    "button": false,
    "new_sheet": false,
    "run_control": {
     "read_only": false
    }
   },
   "source": [
    "![Mechanism schematic](./img/k_Ex12.svg)"
   ]
  },
  {
   "cell_type": "code",
   "execution_count": 4,
   "metadata": {
    "button": false,
    "new_sheet": false,
    "run_control": {
     "read_only": false
    }
   },
   "outputs": [],
   "source": [
    "# Define used symbols for SymPy, constant variables\n",
    "R, e, t = symbols('R e t')  # the time t is a symbol\n",
    "# Define dynamic symbols, variables function of time t\n",
    "theta_1, y_2, OM = dynamicsymbols('theta_1 y_2 OM')\n",
    "theta_1dot = dynamicsymbols('theta_1', 1)  # First order derivative of theta_1\n",
    "y_2dot = dynamicsymbols('y_2', 1)  # First order derivative of theta_2\n",
    "\n",
    "# Our reference frames for each body:\n",
    "\n",
    "B0 = ReferenceFrame('B0', indices=['i', 'j', 'k'])\n",
    "B1 = ReferenceFrame('B1', indices=['i', 'j', 'k'])\n",
    "\n",
    "# We define space transformation relations in our problem:\n",
    "B1.orient(B0, 'Axis', [theta_1, B0.z])  # Rotation of axis (z_0), same as (z_1)\n",
    "\n",
    "# We can view the Direct Cosinus Matrix between both reference frames !\n",
    "# B0.dcm(B1)"
   ]
  }
 ],
 "metadata": {
  "kernelspec": {
   "display_name": "Python 3",
   "language": "python",
   "name": "python3"
  },
  "language_info": {
   "codemirror_mode": {
    "name": "ipython",
    "version": 3
   },
   "file_extension": ".py",
   "mimetype": "text/x-python",
   "name": "python",
   "nbconvert_exporter": "python",
   "pygments_lexer": "ipython3",
   "version": "3.6.4"
  }
 },
 "nbformat": 4,
 "nbformat_minor": 2
}
