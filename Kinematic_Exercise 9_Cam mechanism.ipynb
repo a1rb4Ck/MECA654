{
 "cells": [
  {
   "cell_type": "markdown",
   "metadata": {
    "button": false,
    "new_sheet": false,
    "run_control": {
     "read_only": false
    }
   },
   "source": [
    "__MECA654, March 2018, Polytech Annecy-Chambéry__  \n",
    "[This interactive notebook is on Github](https://github.com/a1rb4Ck/MECA654)  \n",
    "## Exercise 9 - Cam mechanism\n",
    "### Slipping velocity\n",
    "\n",
    "$(1)$ is an excentric wheel  \n",
    "$(2)$ is a plate on top of $(1)$, $(1)$ is sliding on $(2)$  \n",
    "$(2) / (0)$ is a sliding joint,  axis $\\vec{j_0}$  \n",
    "\n",
    "$\\theta_{1}$ is the rotation of $(1)$, axis $\\vec{k_0}$, same axis as $\\vec{k_1}$  \n",
    "$y_{2}$ is the lenght between $\\vec{i_0}$ and $M$, axis $\\vec{j_0}$  \n",
    "\n",
    "$R$ is the $(1)$ wheel radius  \n",
    "$e$ is the distance of the $\\vec{k_1}$ shaft from the wheel's center"
   ]
  },
  {
   "cell_type": "markdown",
   "metadata": {
    "button": false,
    "new_sheet": false,
    "run_control": {
     "read_only": false
    }
   },
   "source": [
    "![Mechanism schematic](./img/k_Ex9.svg)"
   ]
  },
  {
   "cell_type": "code",
   "execution_count": 1,
   "metadata": {
    "button": false,
    "new_sheet": false,
    "run_control": {
     "read_only": false
    }
   },
   "outputs": [],
   "source": [
    "# MECA654, March 2018, Pierre Nagorny\n",
    "# Polytech Annecy-Chambéry, SYMME lab, Savoie Mont Blanc University\n",
    "\n",
    "from IPython.display import display, HTML, IFrame, Math\n",
    "from IPython.core.interactiveshell import InteractiveShell\n",
    "from IPython.display import YouTubeVideo\n",
    "import numpy as np\n",
    "import matplotlib as mpl\n",
    "from matplotlib import pyplot as plt  # Loading Pyplot\n",
    "from scipy.interpolate import interp1d\n",
    "# Setting Matplotlib render backend\n",
    "%matplotlib nbagg\n",
    "#%pylab inline\n",
    "from sympy import *  # Loading Sympy for symbolic calculus\n",
    "from sympy.physics.vector import *  # Everything needed for vector calculs, Reference frame, dynamic\n",
    "from sympy.physics.vector import init_vprinting  # To print time varying vectors\n",
    "\n",
    "init_printing()\n",
    "init_vprinting(pretty_print=True)\n",
    "\n",
    "# Display full output in Jupyter Notebook\n",
    "InteractiveShell.ast_node_interactivity = \"all\"\n",
    "\n",
    "\n",
    "# Define used symbols for SymPy, constant variables\n",
    "R, e, t = symbols('R e t')  # the time t is a symbol\n",
    "# Define dynamic symbols, variables function of time t\n",
    "theta_1, y_2, OM = dynamicsymbols('theta_1 y_2 OM')\n",
    "theta_1dot = dynamicsymbols('theta_1', 1)  # First order derivative of theta_1\n",
    "y_2dot = dynamicsymbols('y_2', 1)  # First order derivative of theta_2\n",
    "\n",
    "# Our reference frames for each body:\n",
    "\n",
    "B0 = ReferenceFrame('B0', indices=['i', 'j', 'k'])\n",
    "B1 = ReferenceFrame('B1', indices=['i', 'j', 'k'])\n",
    "\n",
    "# We define space transformation relations in our problem:\n",
    "B1.orient(B0, 'Axis', [theta_1, B0.z])  # Rotation of axis (z_0), same as (z_1)\n",
    "\n",
    "# We can view the Direct Cosinus Matrix between both reference frames !\n",
    "# B0.dcm(B1)"
   ]
  },
  {
   "cell_type": "markdown",
   "metadata": {
    "button": false,
    "new_sheet": false,
    "run_control": {
     "read_only": false
    }
   },
   "source": [
    "**1. You should determined: $\\overrightarrow{V_{01}(M)}$, $\\overrightarrow{V_{02}(M)}$, $\\overrightarrow{V_{12}(M)}$**"
   ]
  },
  {
   "cell_type": "code",
   "execution_count": 2,
   "metadata": {
    "button": false,
    "new_sheet": false,
    "run_control": {
     "read_only": false
    }
   },
   "outputs": [
    {
     "data": {
      "image/png": "[encoded data removed]",
      "text/latex": [
       "$$\\dot{\\theta}_{1}\\mathbf{\\hat{b1}_{j}}$$"
      ],
      "text/plain": [
       "θ₁̇ b1_j"
      ]
     },
     "execution_count": 2,
     "metadata": {},
     "output_type": "execute_result"
    }
   ],
   "source": [
    "V_01 = (B1['i']).dt(B0)\n",
    "V_01"
   ]
  },
  {
   "cell_type": "code",
   "execution_count": 3,
   "metadata": {},
   "outputs": [
    {
     "data": {
      "image/png": "[encoded data removed]",
      "text/latex": [
       "$$\\dot{y}_{2}\\mathbf{\\hat{b0}_{j}}$$"
      ],
      "text/plain": [
       "y₂̇ b0_j"
      ]
     },
     "execution_count": 3,
     "metadata": {},
     "output_type": "execute_result"
    }
   ],
   "source": [
    "V_02 = (y_2 * B0['j']).dt(B0)\n",
    "V_02"
   ]
  },
  {
   "cell_type": "code",
   "execution_count": 4,
   "metadata": {},
   "outputs": [
    {
     "data": {
      "image/png": "[encoded data removed]",
      "text/latex": [
       "$$\\dot{y}_{2}\\mathbf{\\hat{b0}_{j}} -  \\dot{\\theta}_{1}\\mathbf{\\hat{b1}_{j}}$$"
      ],
      "text/plain": [
       "y₂̇ b0_j + -θ₁̇ b1_j"
      ]
     },
     "execution_count": 4,
     "metadata": {},
     "output_type": "execute_result"
    },
    {
     "data": {
      "text/latex": [
       "$$\\left[\\begin{matrix}\\operatorname{sin}\\left(\\theta_{1}\\right) \\dot{\\theta}_{1}\\\\- \\operatorname{cos}\\left(\\theta_{1}\\right) \\dot{\\theta}_{1} + \\dot{y}_{2}\\\\0\\end{matrix}\\right]$$"
      ],
      "text/plain": [
       "⎡   sin(θ₁)⋅θ₁̇    ⎤\n",
       "⎢                  ⎥\n",
       "⎢-cos(θ₁)⋅θ₁̇ + y₂̇⎥\n",
       "⎢                  ⎥\n",
       "⎣        0         ⎦"
      ]
     },
     "execution_count": 4,
     "metadata": {},
     "output_type": "execute_result"
    }
   ],
   "source": [
    "V_12 = V_02 - V_01\n",
    "V_12\n",
    "V_12.to_matrix(B0)"
   ]
  },
  {
   "cell_type": "markdown",
   "metadata": {},
   "source": [
    "**2. Use the fact that $\\overrightarrow{V_{12}(M)}$ is on $\\overrightarrow{i_{0}(M)}$ to find the relation between $y_2$ and $\\theta_1$**"
   ]
  },
  {
   "cell_type": "code",
   "execution_count": 5,
   "metadata": {},
   "outputs": [
    {
     "data": {
      "image/png": "[encoded data removed]",
      "text/latex": [
       "$$- \\operatorname{cos}\\left(\\theta_{1}\\right) \\dot{\\theta}_{1} + \\dot{y}_{2} = 0$$"
      ],
      "text/plain": [
       "-cos(θ₁)⋅θ₁̇ + y₂̇ = 0"
      ]
     },
     "execution_count": 5,
     "metadata": {},
     "output_type": "execute_result"
    },
    {
     "data": {
      "image/png": "[encoded data removed]",
      "text/latex": [
       "$$y_{2} = C_{1} + \\operatorname{sin}\\left(\\theta_{1}\\right)$$"
      ],
      "text/plain": [
       "y₂ = C₁ + sin(θ₁)"
      ]
     },
     "execution_count": 5,
     "metadata": {},
     "output_type": "execute_result"
    },
    {
     "data": {
      "image/png": "[encoded data removed]",
      "text/latex": [
       "$$\\operatorname{sin}\\left(\\theta_{1}\\right) \\dot{\\theta}_{1} = \\theta_{1}$$"
      ],
      "text/plain": [
       "sin(θ₁)⋅θ₁̇ = θ₁"
      ]
     },
     "execution_count": 5,
     "metadata": {},
     "output_type": "execute_result"
    },
    {
     "data": {
      "image/png": "[encoded data removed]",
      "text/latex": [
       "$$\\operatorname{Si}\\left(\\theta_{1}\\right) = C_{1} + t$$"
      ],
      "text/plain": [
       "Si(θ₁) = C₁ + t"
      ]
     },
     "execution_count": 5,
     "metadata": {},
     "output_type": "execute_result"
    }
   ],
   "source": [
    "# V_12 is on i0, thus V_12_j0 is zero\n",
    "# -cos(theta_1) = V_12.i\n",
    "# y2 = sin(theta_1)\n",
    "\n",
    "Eq(V_12.to_matrix(B0)[1], 0)\n",
    "dsolve(V_12.to_matrix(B0)[1], y_2)\n",
    "Eq(V_12.to_matrix(B0)[0], theta_1)\n",
    "dsolve(Eq(V_12.to_matrix(B0)[0], theta_1), theta_1)"
   ]
  },
  {
   "cell_type": "markdown",
   "metadata": {},
   "source": [
    "**3. Differentiate the relation between $y_{2}$ and $\\theta_{1}$ to find $\\overrightarrow{V_{12}(M)}$**  "
   ]
  },
  {
   "cell_type": "code",
   "execution_count": 6,
   "metadata": {
    "button": false,
    "new_sheet": false,
    "run_control": {
     "read_only": false
    }
   },
   "outputs": [
    {
     "data": {
      "image/png": "[encoded data removed]",
      "text/latex": [
       "$$\\operatorname{cos}\\left(\\theta_{1}\\right) \\dot{\\theta}_{1}$$"
      ],
      "text/plain": [
       "cos(θ₁)⋅θ₁̇"
      ]
     },
     "execution_count": 6,
     "metadata": {},
     "output_type": "execute_result"
    }
   ],
   "source": [
    "func_y_2 = Function('func_y_2')(theta_1)\n",
    "func_y_2 = dsolve(V_12.to_matrix(B0)[1], y_2).args[1]\n",
    "diff(func_y_2, t)\n",
    "\n",
    "# OM.x = e * cos(theta_1) * B0.x\n",
    "# OM.y = (e * sin(theta_1) + R) * B0.y\n",
    "# V_12 = OM.x.dt(B0) + OM.y.dt(B0) + 0 * B0.z\n",
    "# V_12"
   ]
  }
 ],
 "metadata": {
  "kernelspec": {
   "display_name": "Python 3",
   "language": "python",
   "name": "python3"
  },
  "language_info": {
   "codemirror_mode": {
    "name": "ipython",
    "version": 3
   },
   "file_extension": ".py",
   "mimetype": "text/x-python",
   "name": "python",
   "nbconvert_exporter": "python",
   "pygments_lexer": "ipython3",
   "version": "3.6.4"
  }
 },
 "nbformat": 4,
 "nbformat_minor": 2
}
