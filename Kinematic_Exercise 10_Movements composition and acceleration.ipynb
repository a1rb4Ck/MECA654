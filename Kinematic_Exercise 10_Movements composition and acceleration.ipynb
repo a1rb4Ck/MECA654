{
 "cells": [
  {
   "cell_type": "code",
   "execution_count": 1,
   "metadata": {
    "button": false,
    "new_sheet": false,
    "run_control": {
     "read_only": false
    }
   },
   "outputs": [],
   "source": [
    "# MECA654, March 2018, Pierre Nagorny\n",
    "# Polytech Annecy-Chambéry, SYMME lab, Savoie Mont Blanc University\n",
    "\n",
    "from IPython.display import display, HTML, IFrame, Math\n",
    "from IPython.core.interactiveshell import InteractiveShell\n",
    "from IPython.display import YouTubeVideo\n",
    "import numpy as np\n",
    "import matplotlib as mpl\n",
    "from matplotlib import pyplot as plt  # Loading Pyplot\n",
    "from scipy.interpolate import interp1d\n",
    "# Setting Matplotlib render backend\n",
    "%matplotlib nbagg\n",
    "#%pylab inline\n",
    "from sympy import *  # Loading Sympy for symbolic calculus\n",
    "from sympy.physics.vector import *  # Everything needed for vector calculs, Reference frame, dynamic\n",
    "from sympy.physics.vector import init_vprinting  # To print time varying vectors\n",
    "\n",
    "init_printing()\n",
    "init_vprinting(pretty_print=True)\n",
    "\n",
    "# Display full output in Jupyter Notebook\n",
    "InteractiveShell.ast_node_interactivity = \"all\""
   ]
  },
  {
   "cell_type": "markdown",
   "metadata": {
    "button": false,
    "new_sheet": false,
    "run_control": {
     "read_only": false
    }
   },
   "source": [
    "## Exercise 10 - Movements composition and acceleration\n",
    "\n",
    "$(2)$ is an wheel with a $\\dot{\\theta_{2}} \\ (O, \\vec{i_{1}})$ constant speed  \n",
    "$(2)$ has also a $(O, \\vec{k_{0}})$ rotation with a $\\dot{\\theta_{1}}$constant speed  "
   ]
  },
  {
   "cell_type": "markdown",
   "metadata": {
    "button": false,
    "new_sheet": false,
    "run_control": {
     "read_only": false
    }
   },
   "source": [
    "![Mechanism schematic](./img/k_Ex10.svg)"
   ]
  },
  {
   "cell_type": "code",
   "execution_count": 2,
   "metadata": {
    "button": false,
    "new_sheet": false,
    "run_control": {
     "read_only": false
    }
   },
   "outputs": [],
   "source": [
    "# Define used symbols for SymPy, constant variables\n",
    "a, r, t = symbols('a r t')  # the time t is a symbol\n",
    "# Define dynamic symbols, variables function of time t\n",
    "theta_1, theta_2, OM = dynamicsymbols('theta_1 theta_2 OM')\n",
    "theta_1dot = dynamicsymbols('theta_1', 1)  # First order derivative of theta_1\n",
    "theta_2dot = dynamicsymbols('theta_2', 1)  # First order derivative of theta_2\n",
    "\n",
    "# Our reference frames for each body:\n",
    "B0 = ReferenceFrame('B0', indices=['i', 'j', 'k'])\n",
    "B1 = ReferenceFrame('B1', indices=['i', 'j', 'k'])\n",
    "B2 = ReferenceFrame('B1', indices=['i', 'j', 'k'])\n",
    "\n",
    "# We define space transformation relations in our problem:\n",
    "B1.orient(B0, 'Axis', [theta_1, B0['k']])  # Rotation of axis (k_0), same as (k_1)\n",
    "B2.orient(B1, 'Axis', [theta_2, B1['i']])  # Rotation of axis (k_0), same as (k_1)\n",
    "\n",
    "# We can view the Direct Cosinus Matrix between both reference frames !\n",
    "# B2.dcm(B0)"
   ]
  },
  {
   "cell_type": "markdown",
   "metadata": {
    "button": false,
    "new_sheet": false,
    "run_control": {
     "read_only": false
    }
   },
   "source": [
    "**1. You should determined: $\\overrightarrow{V_{01}(P)}$, $\\overrightarrow{V_{12}(P)}$, $\\overrightarrow{V_{02}(P)}$ in the $(2)$ reference frame**"
   ]
  },
  {
   "cell_type": "code",
   "execution_count": 3,
   "metadata": {
    "button": false,
    "new_sheet": false,
    "run_control": {
     "read_only": false
    }
   },
   "outputs": [
    {
     "data": {
      "image/png": "[encoded data removed]",
      "text/latex": [
       "$$a \\operatorname{cos}\\left(\\theta_{2}\\right) \\dot{\\theta}_{1}\\mathbf{\\hat{b1}_{j}} -  a \\operatorname{sin}\\left(\\theta_{2}\\right) \\dot{\\theta}_{1}\\mathbf{\\hat{b1}_{k}}$$"
      ],
      "text/plain": [
       "a⋅cos(θ₂)⋅θ₁̇ b1_j + -a⋅sin(θ₂)⋅θ₁̇ b1_k"
      ]
     },
     "execution_count": 3,
     "metadata": {},
     "output_type": "execute_result"
    }
   ],
   "source": [
    "V_01 = (a * B1['i']).dt(B0)\n",
    "V_01.express(B2)"
   ]
  },
  {
   "cell_type": "code",
   "execution_count": 4,
   "metadata": {},
   "outputs": [
    {
     "data": {
      "image/png": "[encoded data removed]",
      "text/latex": [
       "$$-  r \\dot{\\theta}_{2}\\mathbf{\\hat{b1}_{j}}$$"
      ],
      "text/plain": [
       "-r⋅θ₂̇ b1_j"
      ]
     },
     "execution_count": 4,
     "metadata": {},
     "output_type": "execute_result"
    }
   ],
   "source": [
    "V_12 = (r * B2['k']).dt(B1)\n",
    "V_12.express(B2)"
   ]
  },
  {
   "cell_type": "code",
   "execution_count": 5,
   "metadata": {},
   "outputs": [
    {
     "data": {
      "text/latex": [
       "$$\\left[\\begin{matrix}0\\\\a \\operatorname{cos}\\left(\\theta_{2}\\right) \\dot{\\theta}_{1} - r \\dot{\\theta}_{2}\\\\- a \\operatorname{sin}\\left(\\theta_{2}\\right) \\dot{\\theta}_{1}\\end{matrix}\\right]$$"
      ],
      "text/plain": [
       "⎡          0          ⎤\n",
       "⎢                     ⎥\n",
       "⎢a⋅cos(θ₂)⋅θ₁̇ - r⋅θ₂̇⎥\n",
       "⎢                     ⎥\n",
       "⎣   -a⋅sin(θ₂)⋅θ₁̇    ⎦"
      ]
     },
     "execution_count": 5,
     "metadata": {},
     "output_type": "execute_result"
    }
   ],
   "source": [
    "V_02 = V_01.express(B2) + V_12.express(B2)\n",
    "V_02.to_matrix(B2)"
   ]
  },
  {
   "cell_type": "markdown",
   "metadata": {},
   "source": [
    "**2. Determined $\\overrightarrow{\\Gamma_{02}(P)}$ using the Bour formula**"
   ]
  },
  {
   "cell_type": "code",
   "execution_count": 6,
   "metadata": {},
   "outputs": [
    {
     "data": {
      "text/latex": [
       "$$\\overrightarrow{V_{02}}\\ in \\ the \\ (2) \\ reference \\ frame:$$"
      ],
      "text/plain": [
       "<IPython.core.display.Math object>"
      ]
     },
     "metadata": {},
     "output_type": "display_data"
    },
    {
     "data": {
      "text/latex": [
       "$$\\left[\\begin{matrix}0\\\\a \\operatorname{cos}\\left(\\theta_{2}\\right) \\dot{\\theta}_{1} - r \\dot{\\theta}_{2}\\\\- a \\operatorname{sin}\\left(\\theta_{2}\\right) \\dot{\\theta}_{1}\\end{matrix}\\right]$$"
      ],
      "text/plain": [
       "⎡          0          ⎤\n",
       "⎢                     ⎥\n",
       "⎢a⋅cos(θ₂)⋅θ₁̇ - r⋅θ₂̇⎥\n",
       "⎢                     ⎥\n",
       "⎣   -a⋅sin(θ₂)⋅θ₁̇    ⎦"
      ]
     },
     "execution_count": 6,
     "metadata": {},
     "output_type": "execute_result"
    },
    {
     "data": {
      "text/latex": [
       "$$\\overrightarrow{V_{02}}\\ in \\ the \\ (1) \\ reference \\ frame:$$"
      ],
      "text/plain": [
       "<IPython.core.display.Math object>"
      ]
     },
     "metadata": {},
     "output_type": "display_data"
    },
    {
     "data": {
      "text/latex": [
       "$$\\left[\\begin{matrix}0\\\\a \\operatorname{sin}^{2}\\left(\\theta_{2}\\right) \\dot{\\theta}_{1} + \\left(a \\operatorname{cos}\\left(\\theta_{2}\\right) \\dot{\\theta}_{1} - r \\dot{\\theta}_{2}\\right) \\operatorname{cos}\\left(\\theta_{2}\\right)\\\\- a \\operatorname{sin}\\left(\\theta_{2}\\right) \\operatorname{cos}\\left(\\theta_{2}\\right) \\dot{\\theta}_{1} + \\left(a \\operatorname{cos}\\left(\\theta_{2}\\right) \\dot{\\theta}_{1} - r \\dot{\\theta}_{2}\\right) \\operatorname{sin}\\left(\\theta_{2}\\right)\\end{matrix}\\right]$$"
      ],
      "text/plain": [
       "⎡                           0                            ⎤\n",
       "⎢                                                        ⎥\n",
       "⎢         2                                              ⎥\n",
       "⎢    a⋅sin (θ₂)⋅θ₁̇ + (a⋅cos(θ₂)⋅θ₁̇ - r⋅θ₂̇)⋅cos(θ₂)    ⎥\n",
       "⎢                                                        ⎥\n",
       "⎣-a⋅sin(θ₂)⋅cos(θ₂)⋅θ₁̇ + (a⋅cos(θ₂)⋅θ₁̇ - r⋅θ₂̇)⋅sin(θ₂)⎦"
      ]
     },
     "execution_count": 6,
     "metadata": {},
     "output_type": "execute_result"
    },
    {
     "data": {
      "text/latex": [
       "$$\\overrightarrow{\\Gamma_{02}}\\ in \\ the \\ (1) \\ reference \\ frame:$$"
      ],
      "text/plain": [
       "<IPython.core.display.Math object>"
      ]
     },
     "metadata": {},
     "output_type": "display_data"
    },
    {
     "data": {
      "text/latex": [
       "$$\\left[\\begin{matrix}- \\left(a \\operatorname{sin}^{2}\\left(\\theta_{2}\\right) \\ddot{\\theta}_{1} + 2 a \\operatorname{sin}\\left(\\theta_{2}\\right) \\operatorname{cos}\\left(\\theta_{2}\\right) \\dot{\\theta}_{1} \\dot{\\theta}_{2} - \\left(a \\operatorname{cos}\\left(\\theta_{2}\\right) \\dot{\\theta}_{1} - r \\dot{\\theta}_{2}\\right) \\operatorname{sin}\\left(\\theta_{2}\\right) \\dot{\\theta}_{2} + \\left(- a \\operatorname{sin}\\left(\\theta_{2}\\right) \\dot{\\theta}_{1} \\dot{\\theta}_{2} + a \\operatorname{cos}\\left(\\theta_{2}\\right) \\ddot{\\theta}_{1} - r \\ddot{\\theta}_{2}\\right) \\operatorname{cos}\\left(\\theta_{2}\\right)\\right) \\operatorname{sin}\\left(\\theta_{1}\\right)\\\\\\left(a \\operatorname{sin}^{2}\\left(\\theta_{2}\\right) \\ddot{\\theta}_{1} + 2 a \\operatorname{sin}\\left(\\theta_{2}\\right) \\operatorname{cos}\\left(\\theta_{2}\\right) \\dot{\\theta}_{1} \\dot{\\theta}_{2} - \\left(a \\operatorname{cos}\\left(\\theta_{2}\\right) \\dot{\\theta}_{1} - r \\dot{\\theta}_{2}\\right) \\operatorname{sin}\\left(\\theta_{2}\\right) \\dot{\\theta}_{2} + \\left(- a \\operatorname{sin}\\left(\\theta_{2}\\right) \\dot{\\theta}_{1} \\dot{\\theta}_{2} + a \\operatorname{cos}\\left(\\theta_{2}\\right) \\ddot{\\theta}_{1} - r \\ddot{\\theta}_{2}\\right) \\operatorname{cos}\\left(\\theta_{2}\\right)\\right) \\operatorname{cos}\\left(\\theta_{1}\\right)\\\\a \\operatorname{sin}^{2}\\left(\\theta_{2}\\right) \\dot{\\theta}_{1} \\dot{\\theta}_{2} - a \\operatorname{sin}\\left(\\theta_{2}\\right) \\operatorname{cos}\\left(\\theta_{2}\\right) \\ddot{\\theta}_{1} - a \\operatorname{cos}^{2}\\left(\\theta_{2}\\right) \\dot{\\theta}_{1} \\dot{\\theta}_{2} + \\left(a \\operatorname{cos}\\left(\\theta_{2}\\right) \\dot{\\theta}_{1} - r \\dot{\\theta}_{2}\\right) \\operatorname{cos}\\left(\\theta_{2}\\right) \\dot{\\theta}_{2} + \\left(- a \\operatorname{sin}\\left(\\theta_{2}\\right) \\dot{\\theta}_{1} \\dot{\\theta}_{2} + a \\operatorname{cos}\\left(\\theta_{2}\\right) \\ddot{\\theta}_{1} - r \\ddot{\\theta}_{2}\\right) \\operatorname{sin}\\left(\\theta_{2}\\right)\\end{matrix}\\right]$$"
      ],
      "text/plain": [
       "⎡     ⎛     2                                                                 \n",
       "⎢    -⎝a⋅sin (θ₂)⋅θ₁̈ + 2⋅a⋅sin(θ₂)⋅cos(θ₂)⋅θ₁̇⋅θ₂̇ - (a⋅cos(θ₂)⋅θ₁̇ - r⋅θ₂̇)⋅\n",
       "⎢                                                                             \n",
       "⎢    ⎛     2                                                                  \n",
       "⎢    ⎝a⋅sin (θ₂)⋅θ₁̈ + 2⋅a⋅sin(θ₂)⋅cos(θ₂)⋅θ₁̇⋅θ₂̇ - (a⋅cos(θ₂)⋅θ₁̇ - r⋅θ₂̇)⋅s\n",
       "⎢                                                                             \n",
       "⎢     2                                            2                          \n",
       "⎣a⋅sin (θ₂)⋅θ₁̇⋅θ₂̇ - a⋅sin(θ₂)⋅cos(θ₂)⋅θ₁̈ - a⋅cos (θ₂)⋅θ₁̇⋅θ₂̇ + (a⋅cos(θ₂)⋅\n",
       "\n",
       "                                                                  ⎞           \n",
       "sin(θ₂)⋅θ₂̇ + (-a⋅sin(θ₂)⋅θ₁̇⋅θ₂̇ + a⋅cos(θ₂)⋅θ₁̈ - r⋅θ₂̈)⋅cos(θ₂)⎠⋅sin(θ₁)   \n",
       "                                                                              \n",
       "                                                                 ⎞            \n",
       "in(θ₂)⋅θ₂̇ + (-a⋅sin(θ₂)⋅θ₁̇⋅θ₂̇ + a⋅cos(θ₂)⋅θ₁̈ - r⋅θ₂̈)⋅cos(θ₂)⎠⋅cos(θ₁)    \n",
       "                                                                              \n",
       "                                                                              \n",
       "θ₁̇ - r⋅θ₂̇)⋅cos(θ₂)⋅θ₂̇ + (-a⋅sin(θ₂)⋅θ₁̇⋅θ₂̇ + a⋅cos(θ₂)⋅θ₁̈ - r⋅θ₂̈)⋅sin(θ₂\n",
       "\n",
       " ⎤\n",
       " ⎥\n",
       " ⎥\n",
       " ⎥\n",
       " ⎥\n",
       " ⎥\n",
       " ⎥\n",
       ")⎦"
      ]
     },
     "execution_count": 6,
     "metadata": {},
     "output_type": "execute_result"
    },
    {
     "data": {
      "text/latex": [
       "$$\\overrightarrow{V_{02}}\\ in \\ the \\ (0) \\ reference \\ frame:$$"
      ],
      "text/plain": [
       "<IPython.core.display.Math object>"
      ]
     },
     "metadata": {},
     "output_type": "display_data"
    },
    {
     "data": {
      "text/latex": [
       "$$\\left[\\begin{matrix}- a \\operatorname{sin}\\left(\\theta_{1}\\right) \\operatorname{sin}^{2}\\left(\\theta_{2}\\right) \\dot{\\theta}_{1} - \\left(a \\operatorname{cos}\\left(\\theta_{2}\\right) \\dot{\\theta}_{1} - r \\dot{\\theta}_{2}\\right) \\operatorname{sin}\\left(\\theta_{1}\\right) \\operatorname{cos}\\left(\\theta_{2}\\right)\\\\a \\operatorname{sin}^{2}\\left(\\theta_{2}\\right) \\operatorname{cos}\\left(\\theta_{1}\\right) \\dot{\\theta}_{1} + \\left(a \\operatorname{cos}\\left(\\theta_{2}\\right) \\dot{\\theta}_{1} - r \\dot{\\theta}_{2}\\right) \\operatorname{cos}\\left(\\theta_{1}\\right) \\operatorname{cos}\\left(\\theta_{2}\\right)\\\\- a \\operatorname{sin}\\left(\\theta_{2}\\right) \\operatorname{cos}\\left(\\theta_{2}\\right) \\dot{\\theta}_{1} + \\left(a \\operatorname{cos}\\left(\\theta_{2}\\right) \\dot{\\theta}_{1} - r \\dot{\\theta}_{2}\\right) \\operatorname{sin}\\left(\\theta_{2}\\right)\\end{matrix}\\right]$$"
      ],
      "text/plain": [
       "⎡               2                                                  ⎤\n",
       "⎢- a⋅sin(θ₁)⋅sin (θ₂)⋅θ₁̇ - (a⋅cos(θ₂)⋅θ₁̇ - r⋅θ₂̇)⋅sin(θ₁)⋅cos(θ₂)⎥\n",
       "⎢                                                                  ⎥\n",
       "⎢      2                                                           ⎥\n",
       "⎢ a⋅sin (θ₂)⋅cos(θ₁)⋅θ₁̇ + (a⋅cos(θ₂)⋅θ₁̇ - r⋅θ₂̇)⋅cos(θ₁)⋅cos(θ₂) ⎥\n",
       "⎢                                                                  ⎥\n",
       "⎣     -a⋅sin(θ₂)⋅cos(θ₂)⋅θ₁̇ + (a⋅cos(θ₂)⋅θ₁̇ - r⋅θ₂̇)⋅sin(θ₂)     ⎦"
      ]
     },
     "execution_count": 6,
     "metadata": {},
     "output_type": "execute_result"
    },
    {
     "data": {
      "text/latex": [
       "$$\\overrightarrow{\\Gamma_{02}}\\ in \\ the \\ (0) \\ reference \\ frame, \\ using \\ the \\ Bour \\ formula:$$"
      ],
      "text/plain": [
       "<IPython.core.display.Math object>"
      ]
     },
     "metadata": {},
     "output_type": "display_data"
    },
    {
     "data": {
      "text/latex": [
       "$$\\left[\\begin{matrix}- a \\operatorname{sin}\\left(\\theta_{1}\\right) \\ddot{\\theta}_{1} - a \\operatorname{cos}\\left(\\theta_{1}\\right) \\dot{\\theta}_{1}^{2} - r \\operatorname{sin}\\left(\\theta_{1}\\right) \\operatorname{sin}\\left(\\theta_{2}\\right) \\dot{\\theta}_{2}^{2} + r \\operatorname{sin}\\left(\\theta_{1}\\right) \\operatorname{cos}\\left(\\theta_{2}\\right) \\ddot{\\theta}_{2} + r \\operatorname{cos}\\left(\\theta_{1}\\right) \\operatorname{cos}\\left(\\theta_{2}\\right) \\dot{\\theta}_{1} \\dot{\\theta}_{2}\\\\- a \\operatorname{sin}\\left(\\theta_{1}\\right) \\dot{\\theta}_{1}^{2} + a \\operatorname{cos}\\left(\\theta_{1}\\right) \\ddot{\\theta}_{1} + r \\operatorname{sin}\\left(\\theta_{1}\\right) \\operatorname{cos}\\left(\\theta_{2}\\right) \\dot{\\theta}_{1} \\dot{\\theta}_{2} + r \\operatorname{sin}\\left(\\theta_{2}\\right) \\operatorname{cos}\\left(\\theta_{1}\\right) \\dot{\\theta}_{2}^{2} - r \\operatorname{cos}\\left(\\theta_{1}\\right) \\operatorname{cos}\\left(\\theta_{2}\\right) \\ddot{\\theta}_{2}\\\\- r \\left(\\operatorname{sin}\\left(\\theta_{2}\\right) \\ddot{\\theta}_{2} + \\operatorname{cos}\\left(\\theta_{2}\\right) \\dot{\\theta}_{2}^{2}\\right)\\end{matrix}\\right]$$"
      ],
      "text/plain": [
       "⎡                              2                        2                     \n",
       "⎢-a⋅sin(θ₁)⋅θ₁̈ - a⋅cos(θ₁)⋅θ₁̇  - r⋅sin(θ₁)⋅sin(θ₂)⋅θ₂̇  + r⋅sin(θ₁)⋅cos(θ₂)⋅\n",
       "⎢                                                                             \n",
       "⎢               2                                                             \n",
       "⎢- a⋅sin(θ₁)⋅θ₁̇  + a⋅cos(θ₁)⋅θ₁̈ + r⋅sin(θ₁)⋅cos(θ₂)⋅θ₁̇⋅θ₂̇ + r⋅sin(θ₂)⋅cos(\n",
       "⎢                                                                             \n",
       "⎢                                          ⎛                         2⎞       \n",
       "⎣                                       -r⋅⎝sin(θ₂)⋅θ₂̈ + cos(θ₂)⋅θ₂̇ ⎠       \n",
       "\n",
       "                                ⎤\n",
       "θ₂̈ + r⋅cos(θ₁)⋅cos(θ₂)⋅θ₁̇⋅θ₂̇ ⎥\n",
       "                                ⎥\n",
       "       2                        ⎥\n",
       "θ₁)⋅θ₂̇  - r⋅cos(θ₁)⋅cos(θ₂)⋅θ₂̈⎥\n",
       "                                ⎥\n",
       "                                ⎥\n",
       "                                ⎦"
      ]
     },
     "execution_count": 6,
     "metadata": {},
     "output_type": "execute_result"
    },
    {
     "data": {
      "text/latex": [
       "$$True: Sympy \\ and \\ Bour \\ formula \\ give \\ same \\ results.$$"
      ],
      "text/plain": [
       "<IPython.core.display.Math object>"
      ]
     },
     "metadata": {},
     "output_type": "display_data"
    }
   ],
   "source": [
    "# Bour formula:\n",
    "# V_02_B0 = V_02_B2 + R_02 ^ OM_B2\n",
    "# G_02 = d(V_02_B0)/dt\n",
    "# G_02 = d(V_02_B1)/dt_B1 + R_01 ^ V_02_B0\n",
    "\n",
    "R_01 = B1.ang_vel_in(B0).to_matrix(B0)\n",
    "R_12 = B2.ang_vel_in(B1).to_matrix(B0)\n",
    "R_02 = R_01 + R_12  # Using Sympy method: B2.ang_vel_in(B0).to_matrix(B0) \n",
    "\n",
    "\n",
    "display(Math('\\overrightarrow{V_{02}}\\ in \\ the \\ (2) \\ reference \\ frame:'))\n",
    "V_02.to_matrix(B2)\n",
    "display(Math('\\overrightarrow{V_{02}}\\ in \\ the \\ (1) \\ reference \\ frame:'))\n",
    "V_02.to_matrix(B1)\n",
    "G_02_B1 = V_02.express(B1).dt(B1).to_matrix(B0)\n",
    "display(Math('\\overrightarrow{\\Gamma_{02}}\\ in \\ the \\ (1) \\ reference \\ frame:'))\n",
    "G_02_B1\n",
    "\n",
    "display(Math('\\overrightarrow{V_{02}}\\ in \\ the \\ (0) \\ reference \\ frame:'))\n",
    "V_02_B0 = V_02.to_matrix(B0)\n",
    "V_02_B0\n",
    "\n",
    "display(Math('\\overrightarrow{\\Gamma_{02}}\\ in \\ the \\ (0) \\ reference \\ frame, \\ using \\ the \\ Bour \\ formula:'))\n",
    "G_02 = G_02_B1 + R_01.cross(V_02_B0)  # Derivation reference frame changing\n",
    "G_02.simplify()\n",
    "\n",
    "# Using Sympy reference frames methods:\n",
    "G_02_bis = V_02.express(B0).dt(B0).to_matrix(B0)\n",
    "test = G_02.simplify() == G_02_bis.simplify()  # Check if both methods give the same result\n",
    "display(Math('%s: Sympy \\ and \\ Bour \\ formula \\ give \\ same \\ results.' % test))"
   ]
  },
  {
   "cell_type": "code",
   "execution_count": null,
   "metadata": {},
   "outputs": [],
   "source": []
  }
 ],
 "metadata": {
  "kernelspec": {
   "display_name": "Python 3",
   "language": "python",
   "name": "python3"
  },
  "language_info": {
   "codemirror_mode": {
    "name": "ipython",
    "version": 3
   },
   "file_extension": ".py",
   "mimetype": "text/x-python",
   "name": "python",
   "nbconvert_exporter": "python",
   "pygments_lexer": "ipython3",
   "version": "3.6.4"
  }
 },
 "nbformat": 4,
 "nbformat_minor": 2
}
